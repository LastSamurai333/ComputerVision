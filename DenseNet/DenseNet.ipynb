{
  "nbformat": 4,
  "nbformat_minor": 0,
  "metadata": {
    "colab": {
      "name": "MAULIK_BATCH_2_ASSIGNMENT4B.ipynb",
      "version": "0.3.2",
      "views": {},
      "default_view": {},
      "provenance": [
        {
          "file_id": "1pFn0wvWOKj93A4_-pjMxsxR96VDyN-NF",
          "timestamp": 1525926015366
        },
        {
          "file_id": "1_1kwmwgL7g94jI6BEtcgm-D2_AFk0zxK",
          "timestamp": 1519101209834
        }
      ],
      "collapsed_sections": []
    },
    "kernelspec": {
      "name": "python3",
      "display_name": "Python 3"
    },
    "accelerator": "GPU"
  },
  "cells": [
    {
      "metadata": {
        "id": "wMDxDOLxx1zv",
        "colab_type": "text"
      },
      "cell_type": "markdown",
      "source": [
        "# Accuracy=88.6 at Epoch=40 (18+22=40) \n",
        "# Accuracy=88.8 at Epoch=50 (18+32=50)\n",
        "\n",
        "## 1. Train model on 16x16 Image for 18 epochs (called Pre-trained model)\n",
        "## 2. Load weight from Pre-trained Model\n",
        "## 3. Train model on 32x32 Image for 22 epochs(88.6%)/for 32 epochs(88.8%)  \n"
      ]
    },
    {
      "metadata": {
        "id": "K70hAckqg0EA",
        "colab_type": "code",
        "colab": {
          "autoexec": {
            "startup": false,
            "wait_interval": 0
          },
          "base_uri": "https://localhost:8080/",
          "height": 34
        },
        "outputId": "0ae078e7-5c71-4451-f571-45d723823fa7",
        "executionInfo": {
          "status": "ok",
          "timestamp": 1526450127623,
          "user_tz": -330,
          "elapsed": 5782,
          "user": {
            "displayName": "Maulik Patel",
            "photoUrl": "//lh5.googleusercontent.com/-_UK_oodWrVs/AAAAAAAAAAI/AAAAAAAAAJA/gD4rz1cAslw/s50-c-k-no/photo.jpg",
            "userId": "116093646563580572628"
          }
        }
      },
      "cell_type": "code",
      "source": [
        "# https://keras.io/\n",
        "!pip install -q keras\n",
        "!pip install -q scipy \n",
        "\n",
        "import scipy\n",
        "import numpy as np\n",
        "import matplotlib.pyplot as plt\n",
        "import keras"
      ],
      "execution_count": 2,
      "outputs": [
        {
          "output_type": "stream",
          "text": [
            "Using TensorFlow backend.\n"
          ],
          "name": "stderr"
        }
      ]
    },
    {
      "metadata": {
        "id": "wVIx_KIigxPV",
        "colab_type": "code",
        "colab": {
          "autoexec": {
            "startup": false,
            "wait_interval": 0
          }
        }
      },
      "cell_type": "code",
      "source": [
        "import keras\n",
        "from keras.preprocessing.image import ImageDataGenerator\n",
        "\n",
        "import h5py\n",
        "from keras.datasets import cifar10\n",
        "from keras.models import Model, Sequential\n",
        "from keras.layers import Dense, Dropout, Flatten, Input, AveragePooling2D, merge, Activation\n",
        "from keras.layers import Conv2D, MaxPooling2D, BatchNormalization\n",
        "from keras.layers import Concatenate\n",
        "from keras.optimizers import Adam"
      ],
      "execution_count": 0,
      "outputs": []
    },
    {
      "metadata": {
        "id": "UNHw6luQg3gc",
        "colab_type": "code",
        "colab": {
          "autoexec": {
            "startup": false,
            "wait_interval": 0
          }
        }
      },
      "cell_type": "code",
      "source": [
        "# this part will prevent tensorflow to allocate all the avaliable GPU Memory\n",
        "# backend\n",
        "import tensorflow as tf\n",
        "from keras import backend as k\n",
        "\n",
        "# Don't pre-allocate memory; allocate as-needed\n",
        "config = tf.ConfigProto()\n",
        "config.gpu_options.allow_growth = True\n",
        "\n",
        "# Create a session with the above options specified.\n",
        "k.tensorflow_backend.set_session(tf.Session(config=config))"
      ],
      "execution_count": 0,
      "outputs": []
    },
    {
      "metadata": {
        "id": "dsO_yGxcg5D8",
        "colab_type": "code",
        "colab": {
          "autoexec": {
            "startup": false,
            "wait_interval": 0
          }
        }
      },
      "cell_type": "code",
      "source": [
        "# Hyperparameters\n",
        "batch_size = 64\n",
        "num_classes = 10\n",
        "epochs = 50\n",
        "l = 16\n",
        "num_filter = 32\n",
        "compression = 0.5\n",
        "dropout_rate = 0.1\n"
      ],
      "execution_count": 0,
      "outputs": []
    },
    {
      "metadata": {
        "id": "mB7o3zu1g6eT",
        "colab_type": "code",
        "colab": {
          "autoexec": {
            "startup": false,
            "wait_interval": 0
          }
        }
      },
      "cell_type": "code",
      "source": [
        "# Load CIFAR10 Data\n",
        "(x_train, y_train), (x_test, y_test) = cifar10.load_data()\n",
        "img_height, img_width, channel = x_train.shape[1],x_train.shape[2],x_train.shape[3]\n",
        "\n",
        "# convert to one hot encoing \n",
        "y_train = keras.utils.to_categorical(y_train, num_classes)\n",
        "y_test = keras.utils.to_categorical(y_test, num_classes)"
      ],
      "execution_count": 0,
      "outputs": []
    },
    {
      "metadata": {
        "id": "bkeC0Fey7ROX",
        "colab_type": "text"
      },
      "cell_type": "markdown",
      "source": [
        "## Image Rescaling for 16x16\n"
      ]
    },
    {
      "metadata": {
        "id": "dcclorl7m7yw",
        "colab_type": "code",
        "colab": {
          "autoexec": {
            "startup": false,
            "wait_interval": 0
          },
          "base_uri": "https://localhost:8080/",
          "height": 173
        },
        "outputId": "6fd52f7d-dbfe-466e-bda0-49c0e9077956",
        "executionInfo": {
          "status": "ok",
          "timestamp": 1526450141480,
          "user_tz": -330,
          "elapsed": 8710,
          "user": {
            "displayName": "Maulik Patel",
            "photoUrl": "//lh5.googleusercontent.com/-_UK_oodWrVs/AAAAAAAAAAI/AAAAAAAAAJA/gD4rz1cAslw/s50-c-k-no/photo.jpg",
            "userId": "116093646563580572628"
          }
        }
      },
      "cell_type": "code",
      "source": [
        "#Rescaling\n",
        "x_train_rescale = np.array([scipy.misc.imresize(image, (16, 16),mode='RGB') for image in x_train])\n",
        "print (x_train_rescale.shape)    # (50000, 16, 16, 3)\n",
        "print (x_train.shape)            # (50000, 32, 32, 3)\n",
        "\n",
        "x_test_rescale = np.array([scipy.misc.imresize(image,(16,16),mode='RGB') for image in x_test])\n",
        "print (x_test_rescale.shape)      # (10000, 16, 16, 3)\n",
        "print (x_test.shape)              # (10000, 32, 32, 3)\n",
        "\n",
        "img_height, img_width, channel = x_train_rescale.shape[1],x_train_rescale.shape[2],x_train_rescale.shape[3] #Used while training Rescaling image/Pre-train model\n",
        "#img_height, img_width, channel = x_train.shape[1],x_train.shape[2],x_train.shape[3]      # USed while training original image\n",
        "\n",
        "#plt.imshow(x_train[0])\n",
        "#plt.show()\n",
        "#plt.imshow(x_train_rescale[0])\n",
        "#plt.show()"
      ],
      "execution_count": 7,
      "outputs": [
        {
          "output_type": "stream",
          "text": [
            "/usr/local/lib/python3.6/dist-packages/scipy/misc/pilutil.py:482: FutureWarning: Conversion of the second argument of issubdtype from `int` to `np.signedinteger` is deprecated. In future, it will be treated as `np.int64 == np.dtype(int).type`.\n",
            "  if issubdtype(ts, int):\n",
            "/usr/local/lib/python3.6/dist-packages/scipy/misc/pilutil.py:485: FutureWarning: Conversion of the second argument of issubdtype from `float` to `np.floating` is deprecated. In future, it will be treated as `np.float64 == np.dtype(float).type`.\n",
            "  elif issubdtype(type(size), float):\n"
          ],
          "name": "stderr"
        },
        {
          "output_type": "stream",
          "text": [
            "(50000, 16, 16, 3)\n",
            "(50000, 32, 32, 3)\n",
            "(10000, 16, 16, 3)\n",
            "(10000, 32, 32, 3)\n"
          ],
          "name": "stdout"
        }
      ]
    },
    {
      "metadata": {
        "id": "eN3fQVhP7ka8",
        "colab_type": "text"
      },
      "cell_type": "markdown",
      "source": [
        "## Densnet Block/Transition/Output Layer\n"
      ]
    },
    {
      "metadata": {
        "id": "ee-sge5Kg7vr",
        "colab_type": "code",
        "colab": {
          "autoexec": {
            "startup": false,
            "wait_interval": 0
          }
        }
      },
      "cell_type": "code",
      "source": [
        "# Dense Block\n",
        "def add_denseblock(input, num_filter = 12, dropout_rate = 0.2):\n",
        "    global compression\n",
        "    temp = input\n",
        "    for _ in range(l):\n",
        "        BatchNorm = BatchNormalization(name='Batch'+str(block)+str(_))(temp)\n",
        "        relu = Activation('relu',name='Activation'+str(block)+str(_))(BatchNorm)\n",
        "        Conv2D_3_3 = Conv2D(int(num_filter*compression), (3,3), use_bias=False ,padding='same',name='Conv'+str(block)+str(_))(relu)\n",
        "        if dropout_rate>0:\n",
        "          Conv2D_3_3 = Dropout(dropout_rate,name='Dropout'+str(block)+str(_)) (Conv2D_3_3)\n",
        "        concat = Concatenate(axis=-1,name='Concat'+str(block)+str(_))([temp,Conv2D_3_3])\n",
        "        \n",
        "        temp = concat\n",
        "        \n",
        "    return temp"
      ],
      "execution_count": 0,
      "outputs": []
    },
    {
      "metadata": {
        "id": "OOP6IPsGhBwb",
        "colab_type": "code",
        "colab": {
          "autoexec": {
            "startup": false,
            "wait_interval": 0
          }
        }
      },
      "cell_type": "code",
      "source": [
        "def add_transition(input, num_filter = 12, dropout_rate = 0.2):\n",
        "    global compression\n",
        "    BatchNorm = BatchNormalization(name='Batch'+'_transition'+str(block))(input)\n",
        "    relu = Activation('relu',name='Activation'+'_transition'+str(block))(BatchNorm)\n",
        "    Conv2D_BottleNeck = Conv2D(int(num_filter*compression), (1,1), use_bias=False ,padding='same',name='Conv'+'_transition'+str(block))(relu)\n",
        "    if dropout_rate>0:\n",
        "      Conv2D_BottleNeck = Dropout(dropout_rate,name='Dropout'+'_transition'+str(block))(Conv2D_BottleNeck)\n",
        "    avg = AveragePooling2D(pool_size=(2,2),name='AvgPooling'+'_transition'+str(block))(Conv2D_BottleNeck)\n",
        "    \n",
        "    return avg"
      ],
      "execution_count": 0,
      "outputs": []
    },
    {
      "metadata": {
        "id": "0RaKFpubhDIC",
        "colab_type": "code",
        "colab": {
          "autoexec": {
            "startup": false,
            "wait_interval": 0
          }
        }
      },
      "cell_type": "code",
      "source": [
        "def output_layer(input):\n",
        "    global compression\n",
        "    BatchNorm = BatchNormalization(name='Batch_output_layer')(input)\n",
        "    relu = Activation('relu',name='Activation_output_layer')(BatchNorm)\n",
        "    AvgPooling = AveragePooling2D(pool_size=(2,2),name='AvgPooling_output_layer')(relu)\n",
        "    flat = Flatten(name='Flattern_output_layer')(AvgPooling)\n",
        "    output = Dense(num_classes, activation='softmax',name='Dense_output_layer')(flat)\n",
        "    \n",
        "    return output"
      ],
      "execution_count": 0,
      "outputs": []
    },
    {
      "metadata": {
        "id": "Eo4e1G7DmA43",
        "colab_type": "code",
        "colab": {
          "autoexec": {
            "startup": false,
            "wait_interval": 0
          }
        }
      },
      "cell_type": "code",
      "source": [
        "def my_output_layer(input):\n",
        "    global compression\n",
        "    BatchNorm = BatchNormalization(name='Batch_output_layer')(input)\n",
        "    relu = Activation('relu',name='Activation_output_layer')(BatchNorm)\n",
        "    AvgPooling = AveragePooling2D(pool_size=(2,2),name='AvgPooling_output_layer')(relu)\n",
        "    flat = Flatten(name='Flattern_output_layer')(AvgPooling)\n",
        "    output = Dense(num_classes, activation='softmax',name='my_Dense_output_layer')(flat)  #Name of Dense layer is different than output_layer's Dense layer\n",
        "    \n",
        "    return output"
      ],
      "execution_count": 0,
      "outputs": []
    },
    {
      "metadata": {
        "id": "LWQAi0y58yeE",
        "colab_type": "text"
      },
      "cell_type": "markdown",
      "source": [
        "##  Data Augmentation Config"
      ]
    },
    {
      "metadata": {
        "id": "Ph8YYonR8x9P",
        "colab_type": "code",
        "colab": {
          "autoexec": {
            "startup": false,
            "wait_interval": 0
          }
        }
      },
      "cell_type": "code",
      "source": [
        "imgen = ImageDataGenerator(\n",
        "    width_shift_range=0.125,\n",
        "    height_shift_range=0.125, \n",
        "    horizontal_flip=True,\n",
        "    fill_mode='constant'\n",
        ")\n",
        "\n"
      ],
      "execution_count": 0,
      "outputs": []
    },
    {
      "metadata": {
        "id": "T5pRT91G8Bb4",
        "colab_type": "text"
      },
      "cell_type": "markdown",
      "source": [
        "## Desnet Model (Image Channelwise Normalization)"
      ]
    },
    {
      "metadata": {
        "id": "anPCpQWhhGb7",
        "colab_type": "code",
        "colab": {
          "autoexec": {
            "startup": false,
            "wait_interval": 0
          }
        }
      },
      "cell_type": "code",
      "source": [
        "dropout_rate = 0.1\n",
        "input = Input(shape=(img_height, img_width, channel,),name='input_layer')\n",
        "input_norm = BatchNormalization(axis=-1,name='Channelwise_norm') (input)\n",
        "First_Conv2D = Conv2D(num_filter, (3,3), use_bias=False ,padding='same',name='Conv2D_1st')(input_norm)\n",
        "\n",
        "block=1\n",
        "First_Block = add_denseblock(First_Conv2D, num_filter, dropout_rate)\n",
        "First_Transition = add_transition(First_Block, num_filter, dropout_rate)\n",
        "\n",
        "block=2\n",
        "Second_Block = add_denseblock(First_Transition, num_filter, dropout_rate)\n",
        "Second_Transition = add_transition(Second_Block, num_filter, dropout_rate)\n",
        "\n",
        "block=3\n",
        "Third_Block = add_denseblock(Second_Transition, num_filter, dropout_rate)\n",
        "Third_Transition = add_transition(Third_Block, num_filter, dropout_rate)\n",
        "\n",
        "block=4\n",
        "Last_Block = add_denseblock(Third_Transition,  num_filter, dropout_rate)\n",
        "output = output_layer(Last_Block)\n"
      ],
      "execution_count": 0,
      "outputs": []
    },
    {
      "metadata": {
        "id": "1kFh7pdxhNtT",
        "colab_type": "code",
        "colab": {
          "autoexec": {
            "startup": false,
            "wait_interval": 0
          },
          "base_uri": "https://localhost:8080/",
          "height": 12886
        },
        "outputId": "c91e357e-9366-4d6d-9528-3f0c724b64a2",
        "executionInfo": {
          "status": "ok",
          "timestamp": 1526450156239,
          "user_tz": -330,
          "elapsed": 956,
          "user": {
            "displayName": "Maulik Patel",
            "photoUrl": "//lh5.googleusercontent.com/-_UK_oodWrVs/AAAAAAAAAAI/AAAAAAAAAJA/gD4rz1cAslw/s50-c-k-no/photo.jpg",
            "userId": "116093646563580572628"
          }
        }
      },
      "cell_type": "code",
      "source": [
        "model = Model(inputs=[input], outputs=[output])\n",
        "model.summary()"
      ],
      "execution_count": 14,
      "outputs": [
        {
          "output_type": "stream",
          "text": [
            "__________________________________________________________________________________________________\n",
            "Layer (type)                    Output Shape         Param #     Connected to                     \n",
            "==================================================================================================\n",
            "input_layer (InputLayer)        (None, 16, 16, 3)    0                                            \n",
            "__________________________________________________________________________________________________\n",
            "Channelwise_norm (BatchNormaliz (None, 16, 16, 3)    12          input_layer[0][0]                \n",
            "__________________________________________________________________________________________________\n",
            "Conv2D_1st (Conv2D)             (None, 16, 16, 32)   864         Channelwise_norm[0][0]           \n",
            "__________________________________________________________________________________________________\n",
            "Batch10 (BatchNormalization)    (None, 16, 16, 32)   128         Conv2D_1st[0][0]                 \n",
            "__________________________________________________________________________________________________\n",
            "Activation10 (Activation)       (None, 16, 16, 32)   0           Batch10[0][0]                    \n",
            "__________________________________________________________________________________________________\n",
            "Conv10 (Conv2D)                 (None, 16, 16, 16)   4608        Activation10[0][0]               \n",
            "__________________________________________________________________________________________________\n",
            "Dropout10 (Dropout)             (None, 16, 16, 16)   0           Conv10[0][0]                     \n",
            "__________________________________________________________________________________________________\n",
            "Concat10 (Concatenate)          (None, 16, 16, 48)   0           Conv2D_1st[0][0]                 \n",
            "                                                                 Dropout10[0][0]                  \n",
            "__________________________________________________________________________________________________\n",
            "Batch11 (BatchNormalization)    (None, 16, 16, 48)   192         Concat10[0][0]                   \n",
            "__________________________________________________________________________________________________\n",
            "Activation11 (Activation)       (None, 16, 16, 48)   0           Batch11[0][0]                    \n",
            "__________________________________________________________________________________________________\n",
            "Conv11 (Conv2D)                 (None, 16, 16, 16)   6912        Activation11[0][0]               \n",
            "__________________________________________________________________________________________________\n",
            "Dropout11 (Dropout)             (None, 16, 16, 16)   0           Conv11[0][0]                     \n",
            "__________________________________________________________________________________________________\n",
            "Concat11 (Concatenate)          (None, 16, 16, 64)   0           Concat10[0][0]                   \n",
            "                                                                 Dropout11[0][0]                  \n",
            "__________________________________________________________________________________________________\n",
            "Batch12 (BatchNormalization)    (None, 16, 16, 64)   256         Concat11[0][0]                   \n",
            "__________________________________________________________________________________________________\n",
            "Activation12 (Activation)       (None, 16, 16, 64)   0           Batch12[0][0]                    \n",
            "__________________________________________________________________________________________________\n",
            "Conv12 (Conv2D)                 (None, 16, 16, 16)   9216        Activation12[0][0]               \n",
            "__________________________________________________________________________________________________\n",
            "Dropout12 (Dropout)             (None, 16, 16, 16)   0           Conv12[0][0]                     \n",
            "__________________________________________________________________________________________________\n",
            "Concat12 (Concatenate)          (None, 16, 16, 80)   0           Concat11[0][0]                   \n",
            "                                                                 Dropout12[0][0]                  \n",
            "__________________________________________________________________________________________________\n",
            "Batch13 (BatchNormalization)    (None, 16, 16, 80)   320         Concat12[0][0]                   \n",
            "__________________________________________________________________________________________________\n",
            "Activation13 (Activation)       (None, 16, 16, 80)   0           Batch13[0][0]                    \n",
            "__________________________________________________________________________________________________\n",
            "Conv13 (Conv2D)                 (None, 16, 16, 16)   11520       Activation13[0][0]               \n",
            "__________________________________________________________________________________________________\n",
            "Dropout13 (Dropout)             (None, 16, 16, 16)   0           Conv13[0][0]                     \n",
            "__________________________________________________________________________________________________\n",
            "Concat13 (Concatenate)          (None, 16, 16, 96)   0           Concat12[0][0]                   \n",
            "                                                                 Dropout13[0][0]                  \n",
            "__________________________________________________________________________________________________\n",
            "Batch14 (BatchNormalization)    (None, 16, 16, 96)   384         Concat13[0][0]                   \n",
            "__________________________________________________________________________________________________\n",
            "Activation14 (Activation)       (None, 16, 16, 96)   0           Batch14[0][0]                    \n",
            "__________________________________________________________________________________________________\n",
            "Conv14 (Conv2D)                 (None, 16, 16, 16)   13824       Activation14[0][0]               \n",
            "__________________________________________________________________________________________________\n",
            "Dropout14 (Dropout)             (None, 16, 16, 16)   0           Conv14[0][0]                     \n",
            "__________________________________________________________________________________________________\n",
            "Concat14 (Concatenate)          (None, 16, 16, 112)  0           Concat13[0][0]                   \n",
            "                                                                 Dropout14[0][0]                  \n",
            "__________________________________________________________________________________________________\n",
            "Batch15 (BatchNormalization)    (None, 16, 16, 112)  448         Concat14[0][0]                   \n",
            "__________________________________________________________________________________________________\n",
            "Activation15 (Activation)       (None, 16, 16, 112)  0           Batch15[0][0]                    \n",
            "__________________________________________________________________________________________________\n",
            "Conv15 (Conv2D)                 (None, 16, 16, 16)   16128       Activation15[0][0]               \n",
            "__________________________________________________________________________________________________\n",
            "Dropout15 (Dropout)             (None, 16, 16, 16)   0           Conv15[0][0]                     \n",
            "__________________________________________________________________________________________________\n",
            "Concat15 (Concatenate)          (None, 16, 16, 128)  0           Concat14[0][0]                   \n",
            "                                                                 Dropout15[0][0]                  \n",
            "__________________________________________________________________________________________________\n",
            "Batch16 (BatchNormalization)    (None, 16, 16, 128)  512         Concat15[0][0]                   \n",
            "__________________________________________________________________________________________________\n",
            "Activation16 (Activation)       (None, 16, 16, 128)  0           Batch16[0][0]                    \n",
            "__________________________________________________________________________________________________\n",
            "Conv16 (Conv2D)                 (None, 16, 16, 16)   18432       Activation16[0][0]               \n",
            "__________________________________________________________________________________________________\n",
            "Dropout16 (Dropout)             (None, 16, 16, 16)   0           Conv16[0][0]                     \n",
            "__________________________________________________________________________________________________\n",
            "Concat16 (Concatenate)          (None, 16, 16, 144)  0           Concat15[0][0]                   \n",
            "                                                                 Dropout16[0][0]                  \n",
            "__________________________________________________________________________________________________\n",
            "Batch17 (BatchNormalization)    (None, 16, 16, 144)  576         Concat16[0][0]                   \n",
            "__________________________________________________________________________________________________\n",
            "Activation17 (Activation)       (None, 16, 16, 144)  0           Batch17[0][0]                    \n",
            "__________________________________________________________________________________________________\n",
            "Conv17 (Conv2D)                 (None, 16, 16, 16)   20736       Activation17[0][0]               \n",
            "__________________________________________________________________________________________________\n",
            "Dropout17 (Dropout)             (None, 16, 16, 16)   0           Conv17[0][0]                     \n",
            "__________________________________________________________________________________________________\n",
            "Concat17 (Concatenate)          (None, 16, 16, 160)  0           Concat16[0][0]                   \n",
            "                                                                 Dropout17[0][0]                  \n",
            "__________________________________________________________________________________________________\n",
            "Batch18 (BatchNormalization)    (None, 16, 16, 160)  640         Concat17[0][0]                   \n",
            "__________________________________________________________________________________________________\n",
            "Activation18 (Activation)       (None, 16, 16, 160)  0           Batch18[0][0]                    \n",
            "__________________________________________________________________________________________________\n",
            "Conv18 (Conv2D)                 (None, 16, 16, 16)   23040       Activation18[0][0]               \n",
            "__________________________________________________________________________________________________\n",
            "Dropout18 (Dropout)             (None, 16, 16, 16)   0           Conv18[0][0]                     \n",
            "__________________________________________________________________________________________________\n",
            "Concat18 (Concatenate)          (None, 16, 16, 176)  0           Concat17[0][0]                   \n",
            "                                                                 Dropout18[0][0]                  \n",
            "__________________________________________________________________________________________________\n",
            "Batch19 (BatchNormalization)    (None, 16, 16, 176)  704         Concat18[0][0]                   \n",
            "__________________________________________________________________________________________________\n",
            "Activation19 (Activation)       (None, 16, 16, 176)  0           Batch19[0][0]                    \n",
            "__________________________________________________________________________________________________\n",
            "Conv19 (Conv2D)                 (None, 16, 16, 16)   25344       Activation19[0][0]               \n",
            "__________________________________________________________________________________________________\n",
            "Dropout19 (Dropout)             (None, 16, 16, 16)   0           Conv19[0][0]                     \n",
            "__________________________________________________________________________________________________\n",
            "Concat19 (Concatenate)          (None, 16, 16, 192)  0           Concat18[0][0]                   \n",
            "                                                                 Dropout19[0][0]                  \n",
            "__________________________________________________________________________________________________\n",
            "Batch110 (BatchNormalization)   (None, 16, 16, 192)  768         Concat19[0][0]                   \n",
            "__________________________________________________________________________________________________\n",
            "Activation110 (Activation)      (None, 16, 16, 192)  0           Batch110[0][0]                   \n",
            "__________________________________________________________________________________________________\n",
            "Conv110 (Conv2D)                (None, 16, 16, 16)   27648       Activation110[0][0]              \n",
            "__________________________________________________________________________________________________\n",
            "Dropout110 (Dropout)            (None, 16, 16, 16)   0           Conv110[0][0]                    \n",
            "__________________________________________________________________________________________________\n",
            "Concat110 (Concatenate)         (None, 16, 16, 208)  0           Concat19[0][0]                   \n",
            "                                                                 Dropout110[0][0]                 \n",
            "__________________________________________________________________________________________________\n",
            "Batch111 (BatchNormalization)   (None, 16, 16, 208)  832         Concat110[0][0]                  \n",
            "__________________________________________________________________________________________________\n",
            "Activation111 (Activation)      (None, 16, 16, 208)  0           Batch111[0][0]                   \n",
            "__________________________________________________________________________________________________\n",
            "Conv111 (Conv2D)                (None, 16, 16, 16)   29952       Activation111[0][0]              \n",
            "__________________________________________________________________________________________________\n",
            "Dropout111 (Dropout)            (None, 16, 16, 16)   0           Conv111[0][0]                    \n",
            "__________________________________________________________________________________________________\n",
            "Concat111 (Concatenate)         (None, 16, 16, 224)  0           Concat110[0][0]                  \n",
            "                                                                 Dropout111[0][0]                 \n",
            "__________________________________________________________________________________________________\n",
            "Batch112 (BatchNormalization)   (None, 16, 16, 224)  896         Concat111[0][0]                  \n",
            "__________________________________________________________________________________________________\n",
            "Activation112 (Activation)      (None, 16, 16, 224)  0           Batch112[0][0]                   \n",
            "__________________________________________________________________________________________________\n",
            "Conv112 (Conv2D)                (None, 16, 16, 16)   32256       Activation112[0][0]              \n",
            "__________________________________________________________________________________________________\n",
            "Dropout112 (Dropout)            (None, 16, 16, 16)   0           Conv112[0][0]                    \n",
            "__________________________________________________________________________________________________\n",
            "Concat112 (Concatenate)         (None, 16, 16, 240)  0           Concat111[0][0]                  \n",
            "                                                                 Dropout112[0][0]                 \n",
            "__________________________________________________________________________________________________\n",
            "Batch113 (BatchNormalization)   (None, 16, 16, 240)  960         Concat112[0][0]                  \n",
            "__________________________________________________________________________________________________\n",
            "Activation113 (Activation)      (None, 16, 16, 240)  0           Batch113[0][0]                   \n",
            "__________________________________________________________________________________________________\n",
            "Conv113 (Conv2D)                (None, 16, 16, 16)   34560       Activation113[0][0]              \n",
            "__________________________________________________________________________________________________\n",
            "Dropout113 (Dropout)            (None, 16, 16, 16)   0           Conv113[0][0]                    \n",
            "__________________________________________________________________________________________________\n",
            "Concat113 (Concatenate)         (None, 16, 16, 256)  0           Concat112[0][0]                  \n",
            "                                                                 Dropout113[0][0]                 \n",
            "__________________________________________________________________________________________________\n",
            "Batch114 (BatchNormalization)   (None, 16, 16, 256)  1024        Concat113[0][0]                  \n",
            "__________________________________________________________________________________________________\n",
            "Activation114 (Activation)      (None, 16, 16, 256)  0           Batch114[0][0]                   \n",
            "__________________________________________________________________________________________________\n",
            "Conv114 (Conv2D)                (None, 16, 16, 16)   36864       Activation114[0][0]              \n",
            "__________________________________________________________________________________________________\n",
            "Dropout114 (Dropout)            (None, 16, 16, 16)   0           Conv114[0][0]                    \n",
            "__________________________________________________________________________________________________\n",
            "Concat114 (Concatenate)         (None, 16, 16, 272)  0           Concat113[0][0]                  \n",
            "                                                                 Dropout114[0][0]                 \n",
            "__________________________________________________________________________________________________\n",
            "Batch115 (BatchNormalization)   (None, 16, 16, 272)  1088        Concat114[0][0]                  \n",
            "__________________________________________________________________________________________________\n",
            "Activation115 (Activation)      (None, 16, 16, 272)  0           Batch115[0][0]                   \n",
            "__________________________________________________________________________________________________\n",
            "Conv115 (Conv2D)                (None, 16, 16, 16)   39168       Activation115[0][0]              \n",
            "__________________________________________________________________________________________________\n",
            "Dropout115 (Dropout)            (None, 16, 16, 16)   0           Conv115[0][0]                    \n",
            "__________________________________________________________________________________________________\n",
            "Concat115 (Concatenate)         (None, 16, 16, 288)  0           Concat114[0][0]                  \n",
            "                                                                 Dropout115[0][0]                 \n",
            "__________________________________________________________________________________________________\n",
            "Batch_transition1 (BatchNormali (None, 16, 16, 288)  1152        Concat115[0][0]                  \n",
            "__________________________________________________________________________________________________\n",
            "Activation_transition1 (Activat (None, 16, 16, 288)  0           Batch_transition1[0][0]          \n",
            "__________________________________________________________________________________________________\n",
            "Conv_transition1 (Conv2D)       (None, 16, 16, 16)   4608        Activation_transition1[0][0]     \n",
            "__________________________________________________________________________________________________\n",
            "Dropout_transition1 (Dropout)   (None, 16, 16, 16)   0           Conv_transition1[0][0]           \n",
            "__________________________________________________________________________________________________\n",
            "AvgPooling_transition1 (Average (None, 8, 8, 16)     0           Dropout_transition1[0][0]        \n",
            "__________________________________________________________________________________________________\n",
            "Batch20 (BatchNormalization)    (None, 8, 8, 16)     64          AvgPooling_transition1[0][0]     \n",
            "__________________________________________________________________________________________________\n",
            "Activation20 (Activation)       (None, 8, 8, 16)     0           Batch20[0][0]                    \n",
            "__________________________________________________________________________________________________\n",
            "Conv20 (Conv2D)                 (None, 8, 8, 16)     2304        Activation20[0][0]               \n",
            "__________________________________________________________________________________________________\n",
            "Dropout20 (Dropout)             (None, 8, 8, 16)     0           Conv20[0][0]                     \n",
            "__________________________________________________________________________________________________\n",
            "Concat20 (Concatenate)          (None, 8, 8, 32)     0           AvgPooling_transition1[0][0]     \n",
            "                                                                 Dropout20[0][0]                  \n",
            "__________________________________________________________________________________________________\n",
            "Batch21 (BatchNormalization)    (None, 8, 8, 32)     128         Concat20[0][0]                   \n",
            "__________________________________________________________________________________________________\n",
            "Activation21 (Activation)       (None, 8, 8, 32)     0           Batch21[0][0]                    \n",
            "__________________________________________________________________________________________________\n",
            "Conv21 (Conv2D)                 (None, 8, 8, 16)     4608        Activation21[0][0]               \n",
            "__________________________________________________________________________________________________\n",
            "Dropout21 (Dropout)             (None, 8, 8, 16)     0           Conv21[0][0]                     \n",
            "__________________________________________________________________________________________________\n",
            "Concat21 (Concatenate)          (None, 8, 8, 48)     0           Concat20[0][0]                   \n",
            "                                                                 Dropout21[0][0]                  \n",
            "__________________________________________________________________________________________________\n",
            "Batch22 (BatchNormalization)    (None, 8, 8, 48)     192         Concat21[0][0]                   \n",
            "__________________________________________________________________________________________________\n",
            "Activation22 (Activation)       (None, 8, 8, 48)     0           Batch22[0][0]                    \n",
            "__________________________________________________________________________________________________\n",
            "Conv22 (Conv2D)                 (None, 8, 8, 16)     6912        Activation22[0][0]               \n",
            "__________________________________________________________________________________________________\n",
            "Dropout22 (Dropout)             (None, 8, 8, 16)     0           Conv22[0][0]                     \n",
            "__________________________________________________________________________________________________\n",
            "Concat22 (Concatenate)          (None, 8, 8, 64)     0           Concat21[0][0]                   \n",
            "                                                                 Dropout22[0][0]                  \n",
            "__________________________________________________________________________________________________\n",
            "Batch23 (BatchNormalization)    (None, 8, 8, 64)     256         Concat22[0][0]                   \n",
            "__________________________________________________________________________________________________\n",
            "Activation23 (Activation)       (None, 8, 8, 64)     0           Batch23[0][0]                    \n",
            "__________________________________________________________________________________________________\n",
            "Conv23 (Conv2D)                 (None, 8, 8, 16)     9216        Activation23[0][0]               \n",
            "__________________________________________________________________________________________________\n",
            "Dropout23 (Dropout)             (None, 8, 8, 16)     0           Conv23[0][0]                     \n",
            "__________________________________________________________________________________________________\n",
            "Concat23 (Concatenate)          (None, 8, 8, 80)     0           Concat22[0][0]                   \n",
            "                                                                 Dropout23[0][0]                  \n",
            "__________________________________________________________________________________________________\n",
            "Batch24 (BatchNormalization)    (None, 8, 8, 80)     320         Concat23[0][0]                   \n",
            "__________________________________________________________________________________________________\n",
            "Activation24 (Activation)       (None, 8, 8, 80)     0           Batch24[0][0]                    \n",
            "__________________________________________________________________________________________________\n",
            "Conv24 (Conv2D)                 (None, 8, 8, 16)     11520       Activation24[0][0]               \n",
            "__________________________________________________________________________________________________\n",
            "Dropout24 (Dropout)             (None, 8, 8, 16)     0           Conv24[0][0]                     \n",
            "__________________________________________________________________________________________________\n",
            "Concat24 (Concatenate)          (None, 8, 8, 96)     0           Concat23[0][0]                   \n",
            "                                                                 Dropout24[0][0]                  \n",
            "__________________________________________________________________________________________________\n",
            "Batch25 (BatchNormalization)    (None, 8, 8, 96)     384         Concat24[0][0]                   \n",
            "__________________________________________________________________________________________________\n",
            "Activation25 (Activation)       (None, 8, 8, 96)     0           Batch25[0][0]                    \n",
            "__________________________________________________________________________________________________\n",
            "Conv25 (Conv2D)                 (None, 8, 8, 16)     13824       Activation25[0][0]               \n",
            "__________________________________________________________________________________________________\n",
            "Dropout25 (Dropout)             (None, 8, 8, 16)     0           Conv25[0][0]                     \n",
            "__________________________________________________________________________________________________\n",
            "Concat25 (Concatenate)          (None, 8, 8, 112)    0           Concat24[0][0]                   \n",
            "                                                                 Dropout25[0][0]                  \n",
            "__________________________________________________________________________________________________\n",
            "Batch26 (BatchNormalization)    (None, 8, 8, 112)    448         Concat25[0][0]                   \n",
            "__________________________________________________________________________________________________\n",
            "Activation26 (Activation)       (None, 8, 8, 112)    0           Batch26[0][0]                    \n",
            "__________________________________________________________________________________________________\n",
            "Conv26 (Conv2D)                 (None, 8, 8, 16)     16128       Activation26[0][0]               \n",
            "__________________________________________________________________________________________________\n",
            "Dropout26 (Dropout)             (None, 8, 8, 16)     0           Conv26[0][0]                     \n",
            "__________________________________________________________________________________________________\n",
            "Concat26 (Concatenate)          (None, 8, 8, 128)    0           Concat25[0][0]                   \n",
            "                                                                 Dropout26[0][0]                  \n",
            "__________________________________________________________________________________________________\n",
            "Batch27 (BatchNormalization)    (None, 8, 8, 128)    512         Concat26[0][0]                   \n",
            "__________________________________________________________________________________________________\n",
            "Activation27 (Activation)       (None, 8, 8, 128)    0           Batch27[0][0]                    \n",
            "__________________________________________________________________________________________________\n",
            "Conv27 (Conv2D)                 (None, 8, 8, 16)     18432       Activation27[0][0]               \n",
            "__________________________________________________________________________________________________\n",
            "Dropout27 (Dropout)             (None, 8, 8, 16)     0           Conv27[0][0]                     \n",
            "__________________________________________________________________________________________________\n",
            "Concat27 (Concatenate)          (None, 8, 8, 144)    0           Concat26[0][0]                   \n",
            "                                                                 Dropout27[0][0]                  \n",
            "__________________________________________________________________________________________________\n",
            "Batch28 (BatchNormalization)    (None, 8, 8, 144)    576         Concat27[0][0]                   \n",
            "__________________________________________________________________________________________________\n",
            "Activation28 (Activation)       (None, 8, 8, 144)    0           Batch28[0][0]                    \n",
            "__________________________________________________________________________________________________\n",
            "Conv28 (Conv2D)                 (None, 8, 8, 16)     20736       Activation28[0][0]               \n",
            "__________________________________________________________________________________________________\n",
            "Dropout28 (Dropout)             (None, 8, 8, 16)     0           Conv28[0][0]                     \n",
            "__________________________________________________________________________________________________\n",
            "Concat28 (Concatenate)          (None, 8, 8, 160)    0           Concat27[0][0]                   \n",
            "                                                                 Dropout28[0][0]                  \n",
            "__________________________________________________________________________________________________\n",
            "Batch29 (BatchNormalization)    (None, 8, 8, 160)    640         Concat28[0][0]                   \n",
            "__________________________________________________________________________________________________\n",
            "Activation29 (Activation)       (None, 8, 8, 160)    0           Batch29[0][0]                    \n",
            "__________________________________________________________________________________________________\n",
            "Conv29 (Conv2D)                 (None, 8, 8, 16)     23040       Activation29[0][0]               \n",
            "__________________________________________________________________________________________________\n",
            "Dropout29 (Dropout)             (None, 8, 8, 16)     0           Conv29[0][0]                     \n",
            "__________________________________________________________________________________________________\n",
            "Concat29 (Concatenate)          (None, 8, 8, 176)    0           Concat28[0][0]                   \n",
            "                                                                 Dropout29[0][0]                  \n",
            "__________________________________________________________________________________________________\n",
            "Batch210 (BatchNormalization)   (None, 8, 8, 176)    704         Concat29[0][0]                   \n",
            "__________________________________________________________________________________________________\n",
            "Activation210 (Activation)      (None, 8, 8, 176)    0           Batch210[0][0]                   \n",
            "__________________________________________________________________________________________________\n",
            "Conv210 (Conv2D)                (None, 8, 8, 16)     25344       Activation210[0][0]              \n",
            "__________________________________________________________________________________________________\n",
            "Dropout210 (Dropout)            (None, 8, 8, 16)     0           Conv210[0][0]                    \n",
            "__________________________________________________________________________________________________\n",
            "Concat210 (Concatenate)         (None, 8, 8, 192)    0           Concat29[0][0]                   \n",
            "                                                                 Dropout210[0][0]                 \n",
            "__________________________________________________________________________________________________\n",
            "Batch211 (BatchNormalization)   (None, 8, 8, 192)    768         Concat210[0][0]                  \n",
            "__________________________________________________________________________________________________\n",
            "Activation211 (Activation)      (None, 8, 8, 192)    0           Batch211[0][0]                   \n",
            "__________________________________________________________________________________________________\n",
            "Conv211 (Conv2D)                (None, 8, 8, 16)     27648       Activation211[0][0]              \n",
            "__________________________________________________________________________________________________\n",
            "Dropout211 (Dropout)            (None, 8, 8, 16)     0           Conv211[0][0]                    \n",
            "__________________________________________________________________________________________________\n",
            "Concat211 (Concatenate)         (None, 8, 8, 208)    0           Concat210[0][0]                  \n",
            "                                                                 Dropout211[0][0]                 \n",
            "__________________________________________________________________________________________________\n",
            "Batch212 (BatchNormalization)   (None, 8, 8, 208)    832         Concat211[0][0]                  \n",
            "__________________________________________________________________________________________________\n",
            "Activation212 (Activation)      (None, 8, 8, 208)    0           Batch212[0][0]                   \n",
            "__________________________________________________________________________________________________\n",
            "Conv212 (Conv2D)                (None, 8, 8, 16)     29952       Activation212[0][0]              \n",
            "__________________________________________________________________________________________________\n",
            "Dropout212 (Dropout)            (None, 8, 8, 16)     0           Conv212[0][0]                    \n",
            "__________________________________________________________________________________________________\n",
            "Concat212 (Concatenate)         (None, 8, 8, 224)    0           Concat211[0][0]                  \n",
            "                                                                 Dropout212[0][0]                 \n",
            "__________________________________________________________________________________________________\n",
            "Batch213 (BatchNormalization)   (None, 8, 8, 224)    896         Concat212[0][0]                  \n",
            "__________________________________________________________________________________________________\n",
            "Activation213 (Activation)      (None, 8, 8, 224)    0           Batch213[0][0]                   \n",
            "__________________________________________________________________________________________________\n",
            "Conv213 (Conv2D)                (None, 8, 8, 16)     32256       Activation213[0][0]              \n",
            "__________________________________________________________________________________________________\n",
            "Dropout213 (Dropout)            (None, 8, 8, 16)     0           Conv213[0][0]                    \n",
            "__________________________________________________________________________________________________\n",
            "Concat213 (Concatenate)         (None, 8, 8, 240)    0           Concat212[0][0]                  \n",
            "                                                                 Dropout213[0][0]                 \n",
            "__________________________________________________________________________________________________\n",
            "Batch214 (BatchNormalization)   (None, 8, 8, 240)    960         Concat213[0][0]                  \n",
            "__________________________________________________________________________________________________\n",
            "Activation214 (Activation)      (None, 8, 8, 240)    0           Batch214[0][0]                   \n",
            "__________________________________________________________________________________________________\n",
            "Conv214 (Conv2D)                (None, 8, 8, 16)     34560       Activation214[0][0]              \n",
            "__________________________________________________________________________________________________\n",
            "Dropout214 (Dropout)            (None, 8, 8, 16)     0           Conv214[0][0]                    \n",
            "__________________________________________________________________________________________________\n",
            "Concat214 (Concatenate)         (None, 8, 8, 256)    0           Concat213[0][0]                  \n",
            "                                                                 Dropout214[0][0]                 \n",
            "__________________________________________________________________________________________________\n",
            "Batch215 (BatchNormalization)   (None, 8, 8, 256)    1024        Concat214[0][0]                  \n",
            "__________________________________________________________________________________________________\n",
            "Activation215 (Activation)      (None, 8, 8, 256)    0           Batch215[0][0]                   \n",
            "__________________________________________________________________________________________________\n",
            "Conv215 (Conv2D)                (None, 8, 8, 16)     36864       Activation215[0][0]              \n",
            "__________________________________________________________________________________________________\n",
            "Dropout215 (Dropout)            (None, 8, 8, 16)     0           Conv215[0][0]                    \n",
            "__________________________________________________________________________________________________\n",
            "Concat215 (Concatenate)         (None, 8, 8, 272)    0           Concat214[0][0]                  \n",
            "                                                                 Dropout215[0][0]                 \n",
            "__________________________________________________________________________________________________\n",
            "Batch_transition2 (BatchNormali (None, 8, 8, 272)    1088        Concat215[0][0]                  \n",
            "__________________________________________________________________________________________________\n",
            "Activation_transition2 (Activat (None, 8, 8, 272)    0           Batch_transition2[0][0]          \n",
            "__________________________________________________________________________________________________\n",
            "Conv_transition2 (Conv2D)       (None, 8, 8, 16)     4352        Activation_transition2[0][0]     \n",
            "__________________________________________________________________________________________________\n",
            "Dropout_transition2 (Dropout)   (None, 8, 8, 16)     0           Conv_transition2[0][0]           \n",
            "__________________________________________________________________________________________________\n",
            "AvgPooling_transition2 (Average (None, 4, 4, 16)     0           Dropout_transition2[0][0]        \n",
            "__________________________________________________________________________________________________\n",
            "Batch30 (BatchNormalization)    (None, 4, 4, 16)     64          AvgPooling_transition2[0][0]     \n",
            "__________________________________________________________________________________________________\n",
            "Activation30 (Activation)       (None, 4, 4, 16)     0           Batch30[0][0]                    \n",
            "__________________________________________________________________________________________________\n",
            "Conv30 (Conv2D)                 (None, 4, 4, 16)     2304        Activation30[0][0]               \n",
            "__________________________________________________________________________________________________\n",
            "Dropout30 (Dropout)             (None, 4, 4, 16)     0           Conv30[0][0]                     \n",
            "__________________________________________________________________________________________________\n",
            "Concat30 (Concatenate)          (None, 4, 4, 32)     0           AvgPooling_transition2[0][0]     \n",
            "                                                                 Dropout30[0][0]                  \n",
            "__________________________________________________________________________________________________\n",
            "Batch31 (BatchNormalization)    (None, 4, 4, 32)     128         Concat30[0][0]                   \n",
            "__________________________________________________________________________________________________\n",
            "Activation31 (Activation)       (None, 4, 4, 32)     0           Batch31[0][0]                    \n",
            "__________________________________________________________________________________________________\n",
            "Conv31 (Conv2D)                 (None, 4, 4, 16)     4608        Activation31[0][0]               \n",
            "__________________________________________________________________________________________________\n",
            "Dropout31 (Dropout)             (None, 4, 4, 16)     0           Conv31[0][0]                     \n",
            "__________________________________________________________________________________________________\n",
            "Concat31 (Concatenate)          (None, 4, 4, 48)     0           Concat30[0][0]                   \n",
            "                                                                 Dropout31[0][0]                  \n",
            "__________________________________________________________________________________________________\n",
            "Batch32 (BatchNormalization)    (None, 4, 4, 48)     192         Concat31[0][0]                   \n",
            "__________________________________________________________________________________________________\n",
            "Activation32 (Activation)       (None, 4, 4, 48)     0           Batch32[0][0]                    \n",
            "__________________________________________________________________________________________________\n",
            "Conv32 (Conv2D)                 (None, 4, 4, 16)     6912        Activation32[0][0]               \n",
            "__________________________________________________________________________________________________\n",
            "Dropout32 (Dropout)             (None, 4, 4, 16)     0           Conv32[0][0]                     \n",
            "__________________________________________________________________________________________________\n",
            "Concat32 (Concatenate)          (None, 4, 4, 64)     0           Concat31[0][0]                   \n",
            "                                                                 Dropout32[0][0]                  \n",
            "__________________________________________________________________________________________________\n",
            "Batch33 (BatchNormalization)    (None, 4, 4, 64)     256         Concat32[0][0]                   \n",
            "__________________________________________________________________________________________________\n",
            "Activation33 (Activation)       (None, 4, 4, 64)     0           Batch33[0][0]                    \n",
            "__________________________________________________________________________________________________\n",
            "Conv33 (Conv2D)                 (None, 4, 4, 16)     9216        Activation33[0][0]               \n",
            "__________________________________________________________________________________________________\n",
            "Dropout33 (Dropout)             (None, 4, 4, 16)     0           Conv33[0][0]                     \n",
            "__________________________________________________________________________________________________\n",
            "Concat33 (Concatenate)          (None, 4, 4, 80)     0           Concat32[0][0]                   \n",
            "                                                                 Dropout33[0][0]                  \n",
            "__________________________________________________________________________________________________\n",
            "Batch34 (BatchNormalization)    (None, 4, 4, 80)     320         Concat33[0][0]                   \n",
            "__________________________________________________________________________________________________\n",
            "Activation34 (Activation)       (None, 4, 4, 80)     0           Batch34[0][0]                    \n",
            "__________________________________________________________________________________________________\n",
            "Conv34 (Conv2D)                 (None, 4, 4, 16)     11520       Activation34[0][0]               \n",
            "__________________________________________________________________________________________________\n",
            "Dropout34 (Dropout)             (None, 4, 4, 16)     0           Conv34[0][0]                     \n",
            "__________________________________________________________________________________________________\n",
            "Concat34 (Concatenate)          (None, 4, 4, 96)     0           Concat33[0][0]                   \n",
            "                                                                 Dropout34[0][0]                  \n",
            "__________________________________________________________________________________________________\n",
            "Batch35 (BatchNormalization)    (None, 4, 4, 96)     384         Concat34[0][0]                   \n",
            "__________________________________________________________________________________________________\n",
            "Activation35 (Activation)       (None, 4, 4, 96)     0           Batch35[0][0]                    \n",
            "__________________________________________________________________________________________________\n",
            "Conv35 (Conv2D)                 (None, 4, 4, 16)     13824       Activation35[0][0]               \n",
            "__________________________________________________________________________________________________\n",
            "Dropout35 (Dropout)             (None, 4, 4, 16)     0           Conv35[0][0]                     \n",
            "__________________________________________________________________________________________________\n",
            "Concat35 (Concatenate)          (None, 4, 4, 112)    0           Concat34[0][0]                   \n",
            "                                                                 Dropout35[0][0]                  \n",
            "__________________________________________________________________________________________________\n",
            "Batch36 (BatchNormalization)    (None, 4, 4, 112)    448         Concat35[0][0]                   \n",
            "__________________________________________________________________________________________________\n",
            "Activation36 (Activation)       (None, 4, 4, 112)    0           Batch36[0][0]                    \n",
            "__________________________________________________________________________________________________\n",
            "Conv36 (Conv2D)                 (None, 4, 4, 16)     16128       Activation36[0][0]               \n",
            "__________________________________________________________________________________________________\n",
            "Dropout36 (Dropout)             (None, 4, 4, 16)     0           Conv36[0][0]                     \n",
            "__________________________________________________________________________________________________\n",
            "Concat36 (Concatenate)          (None, 4, 4, 128)    0           Concat35[0][0]                   \n",
            "                                                                 Dropout36[0][0]                  \n",
            "__________________________________________________________________________________________________\n",
            "Batch37 (BatchNormalization)    (None, 4, 4, 128)    512         Concat36[0][0]                   \n",
            "__________________________________________________________________________________________________\n",
            "Activation37 (Activation)       (None, 4, 4, 128)    0           Batch37[0][0]                    \n",
            "__________________________________________________________________________________________________\n",
            "Conv37 (Conv2D)                 (None, 4, 4, 16)     18432       Activation37[0][0]               \n",
            "__________________________________________________________________________________________________\n",
            "Dropout37 (Dropout)             (None, 4, 4, 16)     0           Conv37[0][0]                     \n",
            "__________________________________________________________________________________________________\n",
            "Concat37 (Concatenate)          (None, 4, 4, 144)    0           Concat36[0][0]                   \n",
            "                                                                 Dropout37[0][0]                  \n",
            "__________________________________________________________________________________________________\n",
            "Batch38 (BatchNormalization)    (None, 4, 4, 144)    576         Concat37[0][0]                   \n",
            "__________________________________________________________________________________________________\n",
            "Activation38 (Activation)       (None, 4, 4, 144)    0           Batch38[0][0]                    \n",
            "__________________________________________________________________________________________________\n",
            "Conv38 (Conv2D)                 (None, 4, 4, 16)     20736       Activation38[0][0]               \n",
            "__________________________________________________________________________________________________\n",
            "Dropout38 (Dropout)             (None, 4, 4, 16)     0           Conv38[0][0]                     \n",
            "__________________________________________________________________________________________________\n",
            "Concat38 (Concatenate)          (None, 4, 4, 160)    0           Concat37[0][0]                   \n",
            "                                                                 Dropout38[0][0]                  \n",
            "__________________________________________________________________________________________________\n",
            "Batch39 (BatchNormalization)    (None, 4, 4, 160)    640         Concat38[0][0]                   \n",
            "__________________________________________________________________________________________________\n",
            "Activation39 (Activation)       (None, 4, 4, 160)    0           Batch39[0][0]                    \n",
            "__________________________________________________________________________________________________\n",
            "Conv39 (Conv2D)                 (None, 4, 4, 16)     23040       Activation39[0][0]               \n",
            "__________________________________________________________________________________________________\n",
            "Dropout39 (Dropout)             (None, 4, 4, 16)     0           Conv39[0][0]                     \n",
            "__________________________________________________________________________________________________\n",
            "Concat39 (Concatenate)          (None, 4, 4, 176)    0           Concat38[0][0]                   \n",
            "                                                                 Dropout39[0][0]                  \n",
            "__________________________________________________________________________________________________\n",
            "Batch310 (BatchNormalization)   (None, 4, 4, 176)    704         Concat39[0][0]                   \n",
            "__________________________________________________________________________________________________\n",
            "Activation310 (Activation)      (None, 4, 4, 176)    0           Batch310[0][0]                   \n",
            "__________________________________________________________________________________________________\n",
            "Conv310 (Conv2D)                (None, 4, 4, 16)     25344       Activation310[0][0]              \n",
            "__________________________________________________________________________________________________\n",
            "Dropout310 (Dropout)            (None, 4, 4, 16)     0           Conv310[0][0]                    \n",
            "__________________________________________________________________________________________________\n",
            "Concat310 (Concatenate)         (None, 4, 4, 192)    0           Concat39[0][0]                   \n",
            "                                                                 Dropout310[0][0]                 \n",
            "__________________________________________________________________________________________________\n",
            "Batch311 (BatchNormalization)   (None, 4, 4, 192)    768         Concat310[0][0]                  \n",
            "__________________________________________________________________________________________________\n",
            "Activation311 (Activation)      (None, 4, 4, 192)    0           Batch311[0][0]                   \n",
            "__________________________________________________________________________________________________\n",
            "Conv311 (Conv2D)                (None, 4, 4, 16)     27648       Activation311[0][0]              \n",
            "__________________________________________________________________________________________________\n",
            "Dropout311 (Dropout)            (None, 4, 4, 16)     0           Conv311[0][0]                    \n",
            "__________________________________________________________________________________________________\n",
            "Concat311 (Concatenate)         (None, 4, 4, 208)    0           Concat310[0][0]                  \n",
            "                                                                 Dropout311[0][0]                 \n",
            "__________________________________________________________________________________________________\n",
            "Batch312 (BatchNormalization)   (None, 4, 4, 208)    832         Concat311[0][0]                  \n",
            "__________________________________________________________________________________________________\n",
            "Activation312 (Activation)      (None, 4, 4, 208)    0           Batch312[0][0]                   \n",
            "__________________________________________________________________________________________________\n",
            "Conv312 (Conv2D)                (None, 4, 4, 16)     29952       Activation312[0][0]              \n",
            "__________________________________________________________________________________________________\n",
            "Dropout312 (Dropout)            (None, 4, 4, 16)     0           Conv312[0][0]                    \n",
            "__________________________________________________________________________________________________\n",
            "Concat312 (Concatenate)         (None, 4, 4, 224)    0           Concat311[0][0]                  \n",
            "                                                                 Dropout312[0][0]                 \n",
            "__________________________________________________________________________________________________\n",
            "Batch313 (BatchNormalization)   (None, 4, 4, 224)    896         Concat312[0][0]                  \n",
            "__________________________________________________________________________________________________\n",
            "Activation313 (Activation)      (None, 4, 4, 224)    0           Batch313[0][0]                   \n",
            "__________________________________________________________________________________________________\n",
            "Conv313 (Conv2D)                (None, 4, 4, 16)     32256       Activation313[0][0]              \n",
            "__________________________________________________________________________________________________\n",
            "Dropout313 (Dropout)            (None, 4, 4, 16)     0           Conv313[0][0]                    \n",
            "__________________________________________________________________________________________________\n",
            "Concat313 (Concatenate)         (None, 4, 4, 240)    0           Concat312[0][0]                  \n",
            "                                                                 Dropout313[0][0]                 \n",
            "__________________________________________________________________________________________________\n",
            "Batch314 (BatchNormalization)   (None, 4, 4, 240)    960         Concat313[0][0]                  \n",
            "__________________________________________________________________________________________________\n",
            "Activation314 (Activation)      (None, 4, 4, 240)    0           Batch314[0][0]                   \n",
            "__________________________________________________________________________________________________\n",
            "Conv314 (Conv2D)                (None, 4, 4, 16)     34560       Activation314[0][0]              \n",
            "__________________________________________________________________________________________________\n",
            "Dropout314 (Dropout)            (None, 4, 4, 16)     0           Conv314[0][0]                    \n",
            "__________________________________________________________________________________________________\n",
            "Concat314 (Concatenate)         (None, 4, 4, 256)    0           Concat313[0][0]                  \n",
            "                                                                 Dropout314[0][0]                 \n",
            "__________________________________________________________________________________________________\n",
            "Batch315 (BatchNormalization)   (None, 4, 4, 256)    1024        Concat314[0][0]                  \n",
            "__________________________________________________________________________________________________\n",
            "Activation315 (Activation)      (None, 4, 4, 256)    0           Batch315[0][0]                   \n",
            "__________________________________________________________________________________________________\n",
            "Conv315 (Conv2D)                (None, 4, 4, 16)     36864       Activation315[0][0]              \n",
            "__________________________________________________________________________________________________\n",
            "Dropout315 (Dropout)            (None, 4, 4, 16)     0           Conv315[0][0]                    \n",
            "__________________________________________________________________________________________________\n",
            "Concat315 (Concatenate)         (None, 4, 4, 272)    0           Concat314[0][0]                  \n",
            "                                                                 Dropout315[0][0]                 \n",
            "__________________________________________________________________________________________________\n",
            "Batch_transition3 (BatchNormali (None, 4, 4, 272)    1088        Concat315[0][0]                  \n",
            "__________________________________________________________________________________________________\n",
            "Activation_transition3 (Activat (None, 4, 4, 272)    0           Batch_transition3[0][0]          \n",
            "__________________________________________________________________________________________________\n",
            "Conv_transition3 (Conv2D)       (None, 4, 4, 16)     4352        Activation_transition3[0][0]     \n",
            "__________________________________________________________________________________________________\n",
            "Dropout_transition3 (Dropout)   (None, 4, 4, 16)     0           Conv_transition3[0][0]           \n",
            "__________________________________________________________________________________________________\n",
            "AvgPooling_transition3 (Average (None, 2, 2, 16)     0           Dropout_transition3[0][0]        \n",
            "__________________________________________________________________________________________________\n",
            "Batch40 (BatchNormalization)    (None, 2, 2, 16)     64          AvgPooling_transition3[0][0]     \n",
            "__________________________________________________________________________________________________\n",
            "Activation40 (Activation)       (None, 2, 2, 16)     0           Batch40[0][0]                    \n",
            "__________________________________________________________________________________________________\n",
            "Conv40 (Conv2D)                 (None, 2, 2, 16)     2304        Activation40[0][0]               \n",
            "__________________________________________________________________________________________________\n",
            "Dropout40 (Dropout)             (None, 2, 2, 16)     0           Conv40[0][0]                     \n",
            "__________________________________________________________________________________________________\n",
            "Concat40 (Concatenate)          (None, 2, 2, 32)     0           AvgPooling_transition3[0][0]     \n",
            "                                                                 Dropout40[0][0]                  \n",
            "__________________________________________________________________________________________________\n",
            "Batch41 (BatchNormalization)    (None, 2, 2, 32)     128         Concat40[0][0]                   \n",
            "__________________________________________________________________________________________________\n",
            "Activation41 (Activation)       (None, 2, 2, 32)     0           Batch41[0][0]                    \n",
            "__________________________________________________________________________________________________\n",
            "Conv41 (Conv2D)                 (None, 2, 2, 16)     4608        Activation41[0][0]               \n",
            "__________________________________________________________________________________________________\n",
            "Dropout41 (Dropout)             (None, 2, 2, 16)     0           Conv41[0][0]                     \n",
            "__________________________________________________________________________________________________\n"
          ],
          "name": "stdout"
        },
        {
          "output_type": "stream",
          "text": [
            "Concat41 (Concatenate)          (None, 2, 2, 48)     0           Concat40[0][0]                   \n",
            "                                                                 Dropout41[0][0]                  \n",
            "__________________________________________________________________________________________________\n",
            "Batch42 (BatchNormalization)    (None, 2, 2, 48)     192         Concat41[0][0]                   \n",
            "__________________________________________________________________________________________________\n",
            "Activation42 (Activation)       (None, 2, 2, 48)     0           Batch42[0][0]                    \n",
            "__________________________________________________________________________________________________\n",
            "Conv42 (Conv2D)                 (None, 2, 2, 16)     6912        Activation42[0][0]               \n",
            "__________________________________________________________________________________________________\n",
            "Dropout42 (Dropout)             (None, 2, 2, 16)     0           Conv42[0][0]                     \n",
            "__________________________________________________________________________________________________\n",
            "Concat42 (Concatenate)          (None, 2, 2, 64)     0           Concat41[0][0]                   \n",
            "                                                                 Dropout42[0][0]                  \n",
            "__________________________________________________________________________________________________\n",
            "Batch43 (BatchNormalization)    (None, 2, 2, 64)     256         Concat42[0][0]                   \n",
            "__________________________________________________________________________________________________\n",
            "Activation43 (Activation)       (None, 2, 2, 64)     0           Batch43[0][0]                    \n",
            "__________________________________________________________________________________________________\n",
            "Conv43 (Conv2D)                 (None, 2, 2, 16)     9216        Activation43[0][0]               \n",
            "__________________________________________________________________________________________________\n",
            "Dropout43 (Dropout)             (None, 2, 2, 16)     0           Conv43[0][0]                     \n",
            "__________________________________________________________________________________________________\n",
            "Concat43 (Concatenate)          (None, 2, 2, 80)     0           Concat42[0][0]                   \n",
            "                                                                 Dropout43[0][0]                  \n",
            "__________________________________________________________________________________________________\n",
            "Batch44 (BatchNormalization)    (None, 2, 2, 80)     320         Concat43[0][0]                   \n",
            "__________________________________________________________________________________________________\n",
            "Activation44 (Activation)       (None, 2, 2, 80)     0           Batch44[0][0]                    \n",
            "__________________________________________________________________________________________________\n",
            "Conv44 (Conv2D)                 (None, 2, 2, 16)     11520       Activation44[0][0]               \n",
            "__________________________________________________________________________________________________\n",
            "Dropout44 (Dropout)             (None, 2, 2, 16)     0           Conv44[0][0]                     \n",
            "__________________________________________________________________________________________________\n",
            "Concat44 (Concatenate)          (None, 2, 2, 96)     0           Concat43[0][0]                   \n",
            "                                                                 Dropout44[0][0]                  \n",
            "__________________________________________________________________________________________________\n",
            "Batch45 (BatchNormalization)    (None, 2, 2, 96)     384         Concat44[0][0]                   \n",
            "__________________________________________________________________________________________________\n",
            "Activation45 (Activation)       (None, 2, 2, 96)     0           Batch45[0][0]                    \n",
            "__________________________________________________________________________________________________\n",
            "Conv45 (Conv2D)                 (None, 2, 2, 16)     13824       Activation45[0][0]               \n",
            "__________________________________________________________________________________________________\n",
            "Dropout45 (Dropout)             (None, 2, 2, 16)     0           Conv45[0][0]                     \n",
            "__________________________________________________________________________________________________\n",
            "Concat45 (Concatenate)          (None, 2, 2, 112)    0           Concat44[0][0]                   \n",
            "                                                                 Dropout45[0][0]                  \n",
            "__________________________________________________________________________________________________\n",
            "Batch46 (BatchNormalization)    (None, 2, 2, 112)    448         Concat45[0][0]                   \n",
            "__________________________________________________________________________________________________\n",
            "Activation46 (Activation)       (None, 2, 2, 112)    0           Batch46[0][0]                    \n",
            "__________________________________________________________________________________________________\n",
            "Conv46 (Conv2D)                 (None, 2, 2, 16)     16128       Activation46[0][0]               \n",
            "__________________________________________________________________________________________________\n",
            "Dropout46 (Dropout)             (None, 2, 2, 16)     0           Conv46[0][0]                     \n",
            "__________________________________________________________________________________________________\n",
            "Concat46 (Concatenate)          (None, 2, 2, 128)    0           Concat45[0][0]                   \n",
            "                                                                 Dropout46[0][0]                  \n",
            "__________________________________________________________________________________________________\n",
            "Batch47 (BatchNormalization)    (None, 2, 2, 128)    512         Concat46[0][0]                   \n",
            "__________________________________________________________________________________________________\n",
            "Activation47 (Activation)       (None, 2, 2, 128)    0           Batch47[0][0]                    \n",
            "__________________________________________________________________________________________________\n",
            "Conv47 (Conv2D)                 (None, 2, 2, 16)     18432       Activation47[0][0]               \n",
            "__________________________________________________________________________________________________\n",
            "Dropout47 (Dropout)             (None, 2, 2, 16)     0           Conv47[0][0]                     \n",
            "__________________________________________________________________________________________________\n",
            "Concat47 (Concatenate)          (None, 2, 2, 144)    0           Concat46[0][0]                   \n",
            "                                                                 Dropout47[0][0]                  \n",
            "__________________________________________________________________________________________________\n",
            "Batch48 (BatchNormalization)    (None, 2, 2, 144)    576         Concat47[0][0]                   \n",
            "__________________________________________________________________________________________________\n",
            "Activation48 (Activation)       (None, 2, 2, 144)    0           Batch48[0][0]                    \n",
            "__________________________________________________________________________________________________\n",
            "Conv48 (Conv2D)                 (None, 2, 2, 16)     20736       Activation48[0][0]               \n",
            "__________________________________________________________________________________________________\n",
            "Dropout48 (Dropout)             (None, 2, 2, 16)     0           Conv48[0][0]                     \n",
            "__________________________________________________________________________________________________\n",
            "Concat48 (Concatenate)          (None, 2, 2, 160)    0           Concat47[0][0]                   \n",
            "                                                                 Dropout48[0][0]                  \n",
            "__________________________________________________________________________________________________\n",
            "Batch49 (BatchNormalization)    (None, 2, 2, 160)    640         Concat48[0][0]                   \n",
            "__________________________________________________________________________________________________\n",
            "Activation49 (Activation)       (None, 2, 2, 160)    0           Batch49[0][0]                    \n",
            "__________________________________________________________________________________________________\n",
            "Conv49 (Conv2D)                 (None, 2, 2, 16)     23040       Activation49[0][0]               \n",
            "__________________________________________________________________________________________________\n",
            "Dropout49 (Dropout)             (None, 2, 2, 16)     0           Conv49[0][0]                     \n",
            "__________________________________________________________________________________________________\n",
            "Concat49 (Concatenate)          (None, 2, 2, 176)    0           Concat48[0][0]                   \n",
            "                                                                 Dropout49[0][0]                  \n",
            "__________________________________________________________________________________________________\n",
            "Batch410 (BatchNormalization)   (None, 2, 2, 176)    704         Concat49[0][0]                   \n",
            "__________________________________________________________________________________________________\n",
            "Activation410 (Activation)      (None, 2, 2, 176)    0           Batch410[0][0]                   \n",
            "__________________________________________________________________________________________________\n",
            "Conv410 (Conv2D)                (None, 2, 2, 16)     25344       Activation410[0][0]              \n",
            "__________________________________________________________________________________________________\n",
            "Dropout410 (Dropout)            (None, 2, 2, 16)     0           Conv410[0][0]                    \n",
            "__________________________________________________________________________________________________\n",
            "Concat410 (Concatenate)         (None, 2, 2, 192)    0           Concat49[0][0]                   \n",
            "                                                                 Dropout410[0][0]                 \n",
            "__________________________________________________________________________________________________\n",
            "Batch411 (BatchNormalization)   (None, 2, 2, 192)    768         Concat410[0][0]                  \n",
            "__________________________________________________________________________________________________\n",
            "Activation411 (Activation)      (None, 2, 2, 192)    0           Batch411[0][0]                   \n",
            "__________________________________________________________________________________________________\n",
            "Conv411 (Conv2D)                (None, 2, 2, 16)     27648       Activation411[0][0]              \n",
            "__________________________________________________________________________________________________\n",
            "Dropout411 (Dropout)            (None, 2, 2, 16)     0           Conv411[0][0]                    \n",
            "__________________________________________________________________________________________________\n",
            "Concat411 (Concatenate)         (None, 2, 2, 208)    0           Concat410[0][0]                  \n",
            "                                                                 Dropout411[0][0]                 \n",
            "__________________________________________________________________________________________________\n",
            "Batch412 (BatchNormalization)   (None, 2, 2, 208)    832         Concat411[0][0]                  \n",
            "__________________________________________________________________________________________________\n",
            "Activation412 (Activation)      (None, 2, 2, 208)    0           Batch412[0][0]                   \n",
            "__________________________________________________________________________________________________\n",
            "Conv412 (Conv2D)                (None, 2, 2, 16)     29952       Activation412[0][0]              \n",
            "__________________________________________________________________________________________________\n",
            "Dropout412 (Dropout)            (None, 2, 2, 16)     0           Conv412[0][0]                    \n",
            "__________________________________________________________________________________________________\n",
            "Concat412 (Concatenate)         (None, 2, 2, 224)    0           Concat411[0][0]                  \n",
            "                                                                 Dropout412[0][0]                 \n",
            "__________________________________________________________________________________________________\n",
            "Batch413 (BatchNormalization)   (None, 2, 2, 224)    896         Concat412[0][0]                  \n",
            "__________________________________________________________________________________________________\n",
            "Activation413 (Activation)      (None, 2, 2, 224)    0           Batch413[0][0]                   \n",
            "__________________________________________________________________________________________________\n",
            "Conv413 (Conv2D)                (None, 2, 2, 16)     32256       Activation413[0][0]              \n",
            "__________________________________________________________________________________________________\n",
            "Dropout413 (Dropout)            (None, 2, 2, 16)     0           Conv413[0][0]                    \n",
            "__________________________________________________________________________________________________\n",
            "Concat413 (Concatenate)         (None, 2, 2, 240)    0           Concat412[0][0]                  \n",
            "                                                                 Dropout413[0][0]                 \n",
            "__________________________________________________________________________________________________\n",
            "Batch414 (BatchNormalization)   (None, 2, 2, 240)    960         Concat413[0][0]                  \n",
            "__________________________________________________________________________________________________\n",
            "Activation414 (Activation)      (None, 2, 2, 240)    0           Batch414[0][0]                   \n",
            "__________________________________________________________________________________________________\n",
            "Conv414 (Conv2D)                (None, 2, 2, 16)     34560       Activation414[0][0]              \n",
            "__________________________________________________________________________________________________\n",
            "Dropout414 (Dropout)            (None, 2, 2, 16)     0           Conv414[0][0]                    \n",
            "__________________________________________________________________________________________________\n",
            "Concat414 (Concatenate)         (None, 2, 2, 256)    0           Concat413[0][0]                  \n",
            "                                                                 Dropout414[0][0]                 \n",
            "__________________________________________________________________________________________________\n",
            "Batch415 (BatchNormalization)   (None, 2, 2, 256)    1024        Concat414[0][0]                  \n",
            "__________________________________________________________________________________________________\n",
            "Activation415 (Activation)      (None, 2, 2, 256)    0           Batch415[0][0]                   \n",
            "__________________________________________________________________________________________________\n",
            "Conv415 (Conv2D)                (None, 2, 2, 16)     36864       Activation415[0][0]              \n",
            "__________________________________________________________________________________________________\n",
            "Dropout415 (Dropout)            (None, 2, 2, 16)     0           Conv415[0][0]                    \n",
            "__________________________________________________________________________________________________\n",
            "Concat415 (Concatenate)         (None, 2, 2, 272)    0           Concat414[0][0]                  \n",
            "                                                                 Dropout415[0][0]                 \n",
            "__________________________________________________________________________________________________\n",
            "Batch_output_layer (BatchNormal (None, 2, 2, 272)    1088        Concat415[0][0]                  \n",
            "__________________________________________________________________________________________________\n",
            "Activation_output_layer (Activa (None, 2, 2, 272)    0           Batch_output_layer[0][0]         \n",
            "__________________________________________________________________________________________________\n",
            "AvgPooling_output_layer (Averag (None, 1, 1, 272)    0           Activation_output_layer[0][0]    \n",
            "__________________________________________________________________________________________________\n",
            "Flattern_output_layer (Flatten) (None, 272)          0           AvgPooling_output_layer[0][0]    \n",
            "__________________________________________________________________________________________________\n",
            "Dense_output_layer (Dense)      (None, 10)           2730        Flattern_output_layer[0][0]      \n",
            "==================================================================================================\n",
            "Total params: 1,347,414\n",
            "Trainable params: 1,327,280\n",
            "Non-trainable params: 20,134\n",
            "__________________________________________________________________________________________________\n"
          ],
          "name": "stdout"
        }
      ]
    },
    {
      "metadata": {
        "id": "G8tRAKF8HUkr",
        "colab_type": "text"
      },
      "cell_type": "markdown",
      "source": [
        "# Step1:-Train model on 16x16 image (Called Pre-trained model)\n",
        "\n",
        "---\n",
        "\n"
      ]
    },
    {
      "metadata": {
        "id": "HR3gFxPsHTnT",
        "colab_type": "code",
        "colab": {
          "autoexec": {
            "startup": false,
            "wait_interval": 0
          }
        }
      },
      "cell_type": "code",
      "source": [
        "weight_checksaver = keras.callbacks.ModelCheckpoint('cifar10_weights.{epoch:02d}-{val_loss:.3f}.hdf5',\n",
        "                                                  monitor='val_loss', verbose=1, save_weights_only=True, period=5, mode = 'auto')\n",
        "\n",
        "model.compile(loss='categorical_crossentropy',\n",
        "              optimizer=Adam(),\n",
        "              metrics=['accuracy'])\n"
      ],
      "execution_count": 0,
      "outputs": []
    },
    {
      "metadata": {
        "id": "YQaSzoc3RBBk",
        "colab_type": "code",
        "colab": {
          "autoexec": {
            "startup": false,
            "wait_interval": 0
          },
          "base_uri": "https://localhost:8080/",
          "height": 751
        },
        "outputId": "06d27352-94b9-4caf-f503-034ffa76e752",
        "executionInfo": {
          "status": "ok",
          "timestamp": 1526458473003,
          "user_tz": -330,
          "elapsed": 8276419,
          "user": {
            "displayName": "Maulik Patel",
            "photoUrl": "//lh5.googleusercontent.com/-_UK_oodWrVs/AAAAAAAAAAI/AAAAAAAAAJA/gD4rz1cAslw/s50-c-k-no/photo.jpg",
            "userId": "116093646563580572628"
          }
        }
      },
      "cell_type": "code",
      "source": [
        "#Total 18 epochs with Increasing Batch size\n",
        "#No. of epochs=  epcohs - initial_epochs\n",
        "\n",
        "#Batch  epcohs  initial_epochs  No.ofepoch  \n",
        "# 16      1          0             1        \n",
        "# 32      3          1             2      \n",
        "# 48      8          3             5\n",
        "# 10      18         10            10\n",
        "#---------------------------------------------------\n",
        "#Total Epochs                 =    18\n",
        "\n",
        "epochs= 1\n",
        "batch_size = 16 \n",
        "history1=model.fit_generator(imgen.flow(x_train_rescale,y_train,batch_size=batch_size),\n",
        "                         steps_per_epoch=len(x_train_rescale)/batch_size,\n",
        "                         epochs=epochs,\n",
        "                         initial_epoch=0,\n",
        "                         verbose=1,\n",
        "                         callbacks=[weight_checksaver],\n",
        "                         validation_data=(x_test_rescale,y_test)\n",
        "                        )\n",
        "epochs= 3  # No. of epoch=2, as initial_epoch=1 (3-2=1)\n",
        "batch_size = 32\n",
        "history2=model.fit_generator(imgen.flow(x_train_rescale,y_train,batch_size=batch_size),\n",
        "                         steps_per_epoch=len(x_train_rescale)/batch_size,\n",
        "                         epochs=epochs,\n",
        "                         initial_epoch=1,\n",
        "                         verbose=1,\n",
        "                         callbacks=[weight_checksaver],\n",
        "                         validation_data=(x_test_rescale,y_test)\n",
        "                        )\n",
        "epochs= 8 # No. of Epoch =5,  as initial_epoch=3 (8-3=5)\n",
        "batch_size = 48\n",
        "history3=model.fit_generator(imgen.flow(x_train_rescale,y_train,batch_size=batch_size),\n",
        "                         steps_per_epoch=len(x_train_rescale)/batch_size,\n",
        "                         epochs=epochs, \n",
        "                         initial_epoch=3,\n",
        "                         verbose=1,\n",
        "                         callbacks=[weight_checksaver],\n",
        "                         validation_data=(x_test_rescale,y_test)\n",
        "                        )\n",
        "epochs= 18 # No. of Epoch =10,  as initial_epoch=8 (18-10=8)\n",
        "batch_size = 64\n",
        "history4=model.fit_generator(imgen.flow(x_train_rescale,y_train,batch_size=batch_size),\n",
        "                        steps_per_epoch=len(x_train_rescale)/batch_size,\n",
        "                        epochs=epochs, \n",
        "                        initial_epoch=8,                             \n",
        "                        verbose=1,\n",
        "                        callbacks=[weight_checksaver],\n",
        "                        validation_data=(x_test_rescale,y_test)\n",
        "                       )"
      ],
      "execution_count": 17,
      "outputs": [
        {
          "output_type": "stream",
          "text": [
            "Epoch 1/1\n",
            "3124/3125 [============================>.] - ETA: 0s - loss: 1.7485 - acc: 0.3521"
          ],
          "name": "stdout"
        },
        {
          "output_type": "stream",
          "text": [
            "\b\b\b\b\b\b\b\b\b\b\b\b\b\b\b\b\b\b\b\b\b\b\b\b\b\b\b\b\b\b\b\b\b\b\b\b\b\b\b\b\b\b\b\b\b\b\b\b\b\b\b\b\b\b\b\b\b\b\b\b\b\b\b\b\b\b\b\b\b\b\b\b\b\b\b\b\b\b\b\b\b\r3125/3125 [==============================] - 1139s 364ms/step - loss: 1.7485 - acc: 0.3521 - val_loss: 1.5617 - val_acc: 0.4284\n",
            "Epoch 2/3\n",
            " 328/1562 [=====>........................] - ETA: 7:48 - loss: 1.4596 - acc: 0.4657"
          ],
          "name": "stdout"
        },
        {
          "output_type": "stream",
          "text": [
            "1562/1562 [============================>.] - ETA: 0s - loss: 1.4052 - acc: 0.4890"
          ],
          "name": "stdout"
        },
        {
          "output_type": "stream",
          "text": [
            "\b\b\b\b\b\b\b\b\b\b\b\b\b\b\b\b\b\b\b\b\b\b\b\b\b\b\b\b\b\b\b\b\b\b\b\b\b\b\b\b\b\b\b\b\b\b\b\b\b\b\b\b\b\b\b\b\b\b\b\b\b\b\b\b\b\b\b\b\b\b\b\b\b\b\b\b\b\b\b\b\b\r1563/1562 [==============================] - 608s 389ms/step - loss: 1.4052 - acc: 0.4890 - val_loss: 1.2462 - val_acc: 0.5476\n",
            "Epoch 3/3\n",
            " 329/1562 [=====>........................] - ETA: 7:49 - loss: 1.3004 - acc: 0.5334"
          ],
          "name": "stdout"
        },
        {
          "output_type": "stream",
          "text": [
            "1562/1562 [============================>.] - ETA: 0s - loss: 1.2548 - acc: 0.5488"
          ],
          "name": "stdout"
        },
        {
          "output_type": "stream",
          "text": [
            "\b\b\b\b\b\b\b\b\b\b\b\b\b\b\b\b\b\b\b\b\b\b\b\b\b\b\b\b\b\b\b\b\b\b\b\b\b\b\b\b\b\b\b\b\b\b\b\b\b\b\b\b\b\b\b\b\b\b\b\b\b\b\b\b\b\b\b\b\b\b\b\b\b\b\b\b\b\b\b\b\b\r1563/1562 [==============================] - 609s 390ms/step - loss: 1.2546 - acc: 0.5489 - val_loss: 1.2351 - val_acc: 0.5676\n",
            "Epoch 4/8\n",
            " 329/1041 [========>.....................] - ETA: 4:42 - loss: 1.1250 - acc: 0.5988"
          ],
          "name": "stdout"
        },
        {
          "output_type": "stream",
          "text": [
            "1042/1041 [==============================] - 432s 415ms/step - loss: 1.0950 - acc: 0.6100 - val_loss: 1.0952 - val_acc: 0.6168\n",
            "Epoch 5/8\n",
            " 185/1041 [====>.........................] - ETA: 5:39 - loss: 1.0314 - acc: 0.6376"
          ],
          "name": "stdout"
        },
        {
          "output_type": "stream",
          "text": [
            "1042/1041 [==============================] - 442s 424ms/step - loss: 1.0183 - acc: 0.6373 - val_loss: 1.0718 - val_acc: 0.6464\n",
            "\n",
            "Epoch 00005: saving model to cifar10_weights.05-1.072.hdf5\n",
            "Epoch 6/8\n",
            " 101/1041 [=>............................] - ETA: 6:31 - loss: 0.9953 - acc: 0.6520"
          ],
          "name": "stdout"
        },
        {
          "output_type": "stream",
          "text": [
            "1042/1041 [==============================] - 448s 430ms/step - loss: 0.9567 - acc: 0.6613 - val_loss: 0.9939 - val_acc: 0.6652\n",
            "Epoch 7/8\n",
            "  99/1041 [=>............................] - ETA: 6:14 - loss: 0.9091 - acc: 0.6763"
          ],
          "name": "stdout"
        },
        {
          "output_type": "stream",
          "text": [
            "1042/1041 [==============================] - 447s 429ms/step - loss: 0.9059 - acc: 0.6803 - val_loss: 0.9642 - val_acc: 0.6780\n",
            "Epoch 8/8\n",
            "  98/1041 [=>............................] - ETA: 6:19 - loss: 0.8708 - acc: 0.6891"
          ],
          "name": "stdout"
        },
        {
          "output_type": "stream",
          "text": [
            "1042/1041 [==============================] - 448s 429ms/step - loss: 0.8606 - acc: 0.6992 - val_loss: 1.0246 - val_acc: 0.6646\n",
            "Epoch 9/18\n",
            " 98/781 [==>...........................] - ETA: 4:56 - loss: 0.8088 - acc: 0.7180"
          ],
          "name": "stdout"
        },
        {
          "output_type": "stream",
          "text": [
            "782/781 [==============================] - 368s 471ms/step - loss: 0.7933 - acc: 0.7228 - val_loss: 0.8831 - val_acc: 0.7102\n",
            "Epoch 10/18\n",
            "204/781 [======>.......................] - ETA: 4:18 - loss: 0.7725 - acc: 0.7312"
          ],
          "name": "stdout"
        },
        {
          "output_type": "stream",
          "text": [
            "782/781 [==============================] - 369s 472ms/step - loss: 0.7639 - acc: 0.7313 - val_loss: 0.8656 - val_acc: 0.7145\n",
            "\n",
            "Epoch 00010: saving model to cifar10_weights.10-0.866.hdf5\n",
            "Epoch 11/18\n",
            "190/781 [======>.......................] - ETA: 4:18 - loss: 0.7426 - acc: 0.7419"
          ],
          "name": "stdout"
        },
        {
          "output_type": "stream",
          "text": [
            "782/781 [==============================] - 367s 469ms/step - loss: 0.7371 - acc: 0.7421 - val_loss: 0.8735 - val_acc: 0.7091\n",
            "Epoch 12/18\n",
            "238/781 [========>.....................] - ETA: 3:56 - loss: 0.7176 - acc: 0.7521"
          ],
          "name": "stdout"
        },
        {
          "output_type": "stream",
          "text": [
            "782/781 [==============================] - 365s 467ms/step - loss: 0.7179 - acc: 0.7504 - val_loss: 0.8205 - val_acc: 0.7318\n",
            "Epoch 13/18\n",
            "256/781 [========>.....................] - ETA: 3:57 - loss: 0.6957 - acc: 0.7585"
          ],
          "name": "stdout"
        },
        {
          "output_type": "stream",
          "text": [
            "782/781 [==============================] - 372s 475ms/step - loss: 0.6902 - acc: 0.7579 - val_loss: 0.7650 - val_acc: 0.7514\n",
            "Epoch 14/18\n",
            "262/781 [=========>....................] - ETA: 3:55 - loss: 0.6685 - acc: 0.7647"
          ],
          "name": "stdout"
        },
        {
          "output_type": "stream",
          "text": [
            "782/781 [==============================] - 369s 472ms/step - loss: 0.6678 - acc: 0.7673 - val_loss: 0.7540 - val_acc: 0.7536\n",
            "Epoch 15/18\n",
            "264/781 [=========>....................] - ETA: 3:43 - loss: 0.6555 - acc: 0.7740"
          ],
          "name": "stdout"
        },
        {
          "output_type": "stream",
          "text": [
            "782/781 [==============================] - 361s 461ms/step - loss: 0.6564 - acc: 0.7720 - val_loss: 0.8033 - val_acc: 0.7419\n",
            "\n",
            "Epoch 00015: saving model to cifar10_weights.15-0.803.hdf5\n",
            "Epoch 16/18\n",
            "207/781 [======>.......................] - ETA: 4:14 - loss: 0.6436 - acc: 0.7781"
          ],
          "name": "stdout"
        },
        {
          "output_type": "stream",
          "text": [
            "782/781 [==============================] - 365s 467ms/step - loss: 0.6392 - acc: 0.7790 - val_loss: 0.8957 - val_acc: 0.7349\n",
            "Epoch 17/18\n",
            "244/781 [========>.....................] - ETA: 4:01 - loss: 0.6210 - acc: 0.7832"
          ],
          "name": "stdout"
        },
        {
          "output_type": "stream",
          "text": [
            "782/781 [==============================] - 370s 473ms/step - loss: 0.6231 - acc: 0.7824 - val_loss: 0.7213 - val_acc: 0.7670\n",
            "Epoch 18/18\n",
            "258/781 [========>.....................] - ETA: 3:53 - loss: 0.5995 - acc: 0.7905"
          ],
          "name": "stdout"
        },
        {
          "output_type": "stream",
          "text": [
            "782/781 [==============================] - 366s 468ms/step - loss: 0.6060 - acc: 0.7893 - val_loss: 0.7434 - val_acc: 0.7651\n"
          ],
          "name": "stdout"
        }
      ]
    },
    {
      "metadata": {
        "id": "iN_Am3k-EEZK",
        "colab_type": "code",
        "colab": {
          "autoexec": {
            "startup": false,
            "wait_interval": 0
          },
          "base_uri": "https://localhost:8080/",
          "height": 34
        },
        "outputId": "b2d470ad-433e-4837-a7c8-502c076e44aa",
        "executionInfo": {
          "status": "ok",
          "timestamp": 1526458516553,
          "user_tz": -330,
          "elapsed": 43439,
          "user": {
            "displayName": "Maulik Patel",
            "photoUrl": "//lh5.googleusercontent.com/-_UK_oodWrVs/AAAAAAAAAAI/AAAAAAAAAJA/gD4rz1cAslw/s50-c-k-no/photo.jpg",
            "userId": "116093646563580572628"
          }
        }
      },
      "cell_type": "code",
      "source": [
        "# Save the trained weights in to .h5 format\n",
        "model.save_weights(\"DNST_model.h5\")\n",
        "print(\"Saved model to disk\")\n",
        "\n",
        "from google.colab import files\n",
        "\n",
        "files.download('DNST_model.h5')"
      ],
      "execution_count": 18,
      "outputs": [
        {
          "output_type": "stream",
          "text": [
            "Saved model to disk\n"
          ],
          "name": "stdout"
        }
      ]
    },
    {
      "metadata": {
        "id": "_bkcxQ-XdsQt",
        "colab_type": "code",
        "colab": {
          "autoexec": {
            "startup": false,
            "wait_interval": 0
          },
          "base_uri": "https://localhost:8080/",
          "height": 136
        },
        "outputId": "4f95834e-769c-4025-e0a1-e62815d27465",
        "executionInfo": {
          "status": "ok",
          "timestamp": 1526458553619,
          "user_tz": -330,
          "elapsed": 2853,
          "user": {
            "displayName": "Maulik Patel",
            "photoUrl": "//lh5.googleusercontent.com/-_UK_oodWrVs/AAAAAAAAAAI/AAAAAAAAAJA/gD4rz1cAslw/s50-c-k-no/photo.jpg",
            "userId": "116093646563580572628"
          }
        }
      },
      "cell_type": "code",
      "source": [
        "model.layers[2].get_weights()[0][0][0][0]"
      ],
      "execution_count": 25,
      "outputs": [
        {
          "output_type": "execute_result",
          "data": {
            "text/plain": [
              "array([-0.08926045, -0.03382662,  0.1389838 ,  0.04840288,  0.15290497,\n",
              "        0.20032234, -0.01584686,  0.01852103, -0.07243107,  0.00584622,\n",
              "        0.08848107, -0.18683584, -0.14112152,  0.1708244 , -0.05623038,\n",
              "       -0.08167133, -0.1807296 , -0.05519202, -0.01146097,  0.12076344,\n",
              "        0.34433368, -0.0590573 , -0.07619301,  0.19274437, -0.02804155,\n",
              "        0.16227992, -0.07030777,  0.04280185, -0.17523837,  0.16714962,\n",
              "        0.12454204,  0.1990029 ], dtype=float32)"
            ]
          },
          "metadata": {
            "tags": []
          },
          "execution_count": 25
        }
      ]
    },
    {
      "metadata": {
        "id": "fO7B5um_li3T",
        "colab_type": "text"
      },
      "cell_type": "markdown",
      "source": [
        "# Step 2:- Train model on original Image\n",
        "\n",
        "\n",
        "---\n",
        "\n"
      ]
    },
    {
      "metadata": {
        "id": "fBUOqMT1lhzz",
        "colab_type": "code",
        "colab": {
          "autoexec": {
            "startup": false,
            "wait_interval": 0
          },
          "base_uri": "https://localhost:8080/",
          "height": 12886
        },
        "outputId": "907a88cc-855d-4a23-814e-b083195bbd7a",
        "executionInfo": {
          "status": "ok",
          "timestamp": 1526458543360,
          "user_tz": -330,
          "elapsed": 10828,
          "user": {
            "displayName": "Maulik Patel",
            "photoUrl": "//lh5.googleusercontent.com/-_UK_oodWrVs/AAAAAAAAAAI/AAAAAAAAAJA/gD4rz1cAslw/s50-c-k-no/photo.jpg",
            "userId": "116093646563580572628"
          }
        }
      },
      "cell_type": "code",
      "source": [
        "#Everthing same except Dense layer name\n",
        "img_height, img_width, channel = x_train.shape[1],x_train.shape[2],x_train.shape[3] \n",
        "dropout_rate = 0.1\n",
        "\n",
        "input = Input(shape=(img_height, img_width, channel,),name='input_layer')\n",
        "input_norm = BatchNormalization(axis=-1,name='Channelwise_norm') (input)\n",
        "First_Conv2D = Conv2D(num_filter, (3,3), use_bias=False ,padding='same',name='Conv2D_1st')(input_norm)\n",
        "\n",
        "block=1\n",
        "First_Block = add_denseblock(First_Conv2D, num_filter, dropout_rate)\n",
        "First_Transition = add_transition(First_Block, num_filter, dropout_rate)\n",
        "\n",
        "block=2\n",
        "Second_Block = add_denseblock(First_Transition, num_filter, dropout_rate)\n",
        "Second_Transition = add_transition(Second_Block, num_filter, dropout_rate)\n",
        "\n",
        "block=3\n",
        "Third_Block = add_denseblock(Second_Transition, num_filter, dropout_rate)\n",
        "Third_Transition = add_transition(Third_Block, num_filter, dropout_rate)\n",
        "\n",
        "block=4\n",
        "Last_Block = add_denseblock(Third_Transition,  num_filter, dropout_rate)\n",
        "output = my_output_layer(Last_Block)       #my_output_layer:- dense layer with different name\n",
        "\n",
        "  \n",
        "my_model = Model(inputs=[input], outputs=[output])\n",
        "my_model.summary()"
      ],
      "execution_count": 21,
      "outputs": [
        {
          "output_type": "stream",
          "text": [
            "__________________________________________________________________________________________________\n",
            "Layer (type)                    Output Shape         Param #     Connected to                     \n",
            "==================================================================================================\n",
            "input_layer (InputLayer)        (None, 32, 32, 3)    0                                            \n",
            "__________________________________________________________________________________________________\n",
            "Channelwise_norm (BatchNormaliz (None, 32, 32, 3)    12          input_layer[0][0]                \n",
            "__________________________________________________________________________________________________\n",
            "Conv2D_1st (Conv2D)             (None, 32, 32, 32)   864         Channelwise_norm[0][0]           \n",
            "__________________________________________________________________________________________________\n",
            "Batch10 (BatchNormalization)    (None, 32, 32, 32)   128         Conv2D_1st[0][0]                 \n",
            "__________________________________________________________________________________________________\n",
            "Activation10 (Activation)       (None, 32, 32, 32)   0           Batch10[0][0]                    \n",
            "__________________________________________________________________________________________________\n",
            "Conv10 (Conv2D)                 (None, 32, 32, 16)   4608        Activation10[0][0]               \n",
            "__________________________________________________________________________________________________\n",
            "Dropout10 (Dropout)             (None, 32, 32, 16)   0           Conv10[0][0]                     \n",
            "__________________________________________________________________________________________________\n",
            "Concat10 (Concatenate)          (None, 32, 32, 48)   0           Conv2D_1st[0][0]                 \n",
            "                                                                 Dropout10[0][0]                  \n",
            "__________________________________________________________________________________________________\n",
            "Batch11 (BatchNormalization)    (None, 32, 32, 48)   192         Concat10[0][0]                   \n",
            "__________________________________________________________________________________________________\n",
            "Activation11 (Activation)       (None, 32, 32, 48)   0           Batch11[0][0]                    \n",
            "__________________________________________________________________________________________________\n",
            "Conv11 (Conv2D)                 (None, 32, 32, 16)   6912        Activation11[0][0]               \n",
            "__________________________________________________________________________________________________\n",
            "Dropout11 (Dropout)             (None, 32, 32, 16)   0           Conv11[0][0]                     \n",
            "__________________________________________________________________________________________________\n",
            "Concat11 (Concatenate)          (None, 32, 32, 64)   0           Concat10[0][0]                   \n",
            "                                                                 Dropout11[0][0]                  \n",
            "__________________________________________________________________________________________________\n",
            "Batch12 (BatchNormalization)    (None, 32, 32, 64)   256         Concat11[0][0]                   \n",
            "__________________________________________________________________________________________________\n",
            "Activation12 (Activation)       (None, 32, 32, 64)   0           Batch12[0][0]                    \n",
            "__________________________________________________________________________________________________\n",
            "Conv12 (Conv2D)                 (None, 32, 32, 16)   9216        Activation12[0][0]               \n",
            "__________________________________________________________________________________________________\n",
            "Dropout12 (Dropout)             (None, 32, 32, 16)   0           Conv12[0][0]                     \n",
            "__________________________________________________________________________________________________\n",
            "Concat12 (Concatenate)          (None, 32, 32, 80)   0           Concat11[0][0]                   \n",
            "                                                                 Dropout12[0][0]                  \n",
            "__________________________________________________________________________________________________\n",
            "Batch13 (BatchNormalization)    (None, 32, 32, 80)   320         Concat12[0][0]                   \n",
            "__________________________________________________________________________________________________\n",
            "Activation13 (Activation)       (None, 32, 32, 80)   0           Batch13[0][0]                    \n",
            "__________________________________________________________________________________________________\n",
            "Conv13 (Conv2D)                 (None, 32, 32, 16)   11520       Activation13[0][0]               \n",
            "__________________________________________________________________________________________________\n",
            "Dropout13 (Dropout)             (None, 32, 32, 16)   0           Conv13[0][0]                     \n",
            "__________________________________________________________________________________________________\n",
            "Concat13 (Concatenate)          (None, 32, 32, 96)   0           Concat12[0][0]                   \n",
            "                                                                 Dropout13[0][0]                  \n",
            "__________________________________________________________________________________________________\n",
            "Batch14 (BatchNormalization)    (None, 32, 32, 96)   384         Concat13[0][0]                   \n",
            "__________________________________________________________________________________________________\n",
            "Activation14 (Activation)       (None, 32, 32, 96)   0           Batch14[0][0]                    \n",
            "__________________________________________________________________________________________________\n",
            "Conv14 (Conv2D)                 (None, 32, 32, 16)   13824       Activation14[0][0]               \n",
            "__________________________________________________________________________________________________\n",
            "Dropout14 (Dropout)             (None, 32, 32, 16)   0           Conv14[0][0]                     \n",
            "__________________________________________________________________________________________________\n",
            "Concat14 (Concatenate)          (None, 32, 32, 112)  0           Concat13[0][0]                   \n",
            "                                                                 Dropout14[0][0]                  \n",
            "__________________________________________________________________________________________________\n",
            "Batch15 (BatchNormalization)    (None, 32, 32, 112)  448         Concat14[0][0]                   \n",
            "__________________________________________________________________________________________________\n",
            "Activation15 (Activation)       (None, 32, 32, 112)  0           Batch15[0][0]                    \n",
            "__________________________________________________________________________________________________\n",
            "Conv15 (Conv2D)                 (None, 32, 32, 16)   16128       Activation15[0][0]               \n",
            "__________________________________________________________________________________________________\n",
            "Dropout15 (Dropout)             (None, 32, 32, 16)   0           Conv15[0][0]                     \n",
            "__________________________________________________________________________________________________\n",
            "Concat15 (Concatenate)          (None, 32, 32, 128)  0           Concat14[0][0]                   \n",
            "                                                                 Dropout15[0][0]                  \n",
            "__________________________________________________________________________________________________\n",
            "Batch16 (BatchNormalization)    (None, 32, 32, 128)  512         Concat15[0][0]                   \n",
            "__________________________________________________________________________________________________\n",
            "Activation16 (Activation)       (None, 32, 32, 128)  0           Batch16[0][0]                    \n",
            "__________________________________________________________________________________________________\n",
            "Conv16 (Conv2D)                 (None, 32, 32, 16)   18432       Activation16[0][0]               \n",
            "__________________________________________________________________________________________________\n",
            "Dropout16 (Dropout)             (None, 32, 32, 16)   0           Conv16[0][0]                     \n",
            "__________________________________________________________________________________________________\n",
            "Concat16 (Concatenate)          (None, 32, 32, 144)  0           Concat15[0][0]                   \n",
            "                                                                 Dropout16[0][0]                  \n",
            "__________________________________________________________________________________________________\n",
            "Batch17 (BatchNormalization)    (None, 32, 32, 144)  576         Concat16[0][0]                   \n",
            "__________________________________________________________________________________________________\n",
            "Activation17 (Activation)       (None, 32, 32, 144)  0           Batch17[0][0]                    \n",
            "__________________________________________________________________________________________________\n",
            "Conv17 (Conv2D)                 (None, 32, 32, 16)   20736       Activation17[0][0]               \n",
            "__________________________________________________________________________________________________\n",
            "Dropout17 (Dropout)             (None, 32, 32, 16)   0           Conv17[0][0]                     \n",
            "__________________________________________________________________________________________________\n",
            "Concat17 (Concatenate)          (None, 32, 32, 160)  0           Concat16[0][0]                   \n",
            "                                                                 Dropout17[0][0]                  \n",
            "__________________________________________________________________________________________________\n",
            "Batch18 (BatchNormalization)    (None, 32, 32, 160)  640         Concat17[0][0]                   \n",
            "__________________________________________________________________________________________________\n",
            "Activation18 (Activation)       (None, 32, 32, 160)  0           Batch18[0][0]                    \n",
            "__________________________________________________________________________________________________\n",
            "Conv18 (Conv2D)                 (None, 32, 32, 16)   23040       Activation18[0][0]               \n",
            "__________________________________________________________________________________________________\n",
            "Dropout18 (Dropout)             (None, 32, 32, 16)   0           Conv18[0][0]                     \n",
            "__________________________________________________________________________________________________\n",
            "Concat18 (Concatenate)          (None, 32, 32, 176)  0           Concat17[0][0]                   \n",
            "                                                                 Dropout18[0][0]                  \n",
            "__________________________________________________________________________________________________\n",
            "Batch19 (BatchNormalization)    (None, 32, 32, 176)  704         Concat18[0][0]                   \n",
            "__________________________________________________________________________________________________\n",
            "Activation19 (Activation)       (None, 32, 32, 176)  0           Batch19[0][0]                    \n",
            "__________________________________________________________________________________________________\n",
            "Conv19 (Conv2D)                 (None, 32, 32, 16)   25344       Activation19[0][0]               \n",
            "__________________________________________________________________________________________________\n",
            "Dropout19 (Dropout)             (None, 32, 32, 16)   0           Conv19[0][0]                     \n",
            "__________________________________________________________________________________________________\n",
            "Concat19 (Concatenate)          (None, 32, 32, 192)  0           Concat18[0][0]                   \n",
            "                                                                 Dropout19[0][0]                  \n",
            "__________________________________________________________________________________________________\n",
            "Batch110 (BatchNormalization)   (None, 32, 32, 192)  768         Concat19[0][0]                   \n",
            "__________________________________________________________________________________________________\n",
            "Activation110 (Activation)      (None, 32, 32, 192)  0           Batch110[0][0]                   \n",
            "__________________________________________________________________________________________________\n",
            "Conv110 (Conv2D)                (None, 32, 32, 16)   27648       Activation110[0][0]              \n",
            "__________________________________________________________________________________________________\n",
            "Dropout110 (Dropout)            (None, 32, 32, 16)   0           Conv110[0][0]                    \n",
            "__________________________________________________________________________________________________\n",
            "Concat110 (Concatenate)         (None, 32, 32, 208)  0           Concat19[0][0]                   \n",
            "                                                                 Dropout110[0][0]                 \n",
            "__________________________________________________________________________________________________\n",
            "Batch111 (BatchNormalization)   (None, 32, 32, 208)  832         Concat110[0][0]                  \n",
            "__________________________________________________________________________________________________\n",
            "Activation111 (Activation)      (None, 32, 32, 208)  0           Batch111[0][0]                   \n",
            "__________________________________________________________________________________________________\n",
            "Conv111 (Conv2D)                (None, 32, 32, 16)   29952       Activation111[0][0]              \n",
            "__________________________________________________________________________________________________\n",
            "Dropout111 (Dropout)            (None, 32, 32, 16)   0           Conv111[0][0]                    \n",
            "__________________________________________________________________________________________________\n",
            "Concat111 (Concatenate)         (None, 32, 32, 224)  0           Concat110[0][0]                  \n",
            "                                                                 Dropout111[0][0]                 \n",
            "__________________________________________________________________________________________________\n",
            "Batch112 (BatchNormalization)   (None, 32, 32, 224)  896         Concat111[0][0]                  \n",
            "__________________________________________________________________________________________________\n",
            "Activation112 (Activation)      (None, 32, 32, 224)  0           Batch112[0][0]                   \n",
            "__________________________________________________________________________________________________\n",
            "Conv112 (Conv2D)                (None, 32, 32, 16)   32256       Activation112[0][0]              \n",
            "__________________________________________________________________________________________________\n",
            "Dropout112 (Dropout)            (None, 32, 32, 16)   0           Conv112[0][0]                    \n",
            "__________________________________________________________________________________________________\n",
            "Concat112 (Concatenate)         (None, 32, 32, 240)  0           Concat111[0][0]                  \n",
            "                                                                 Dropout112[0][0]                 \n",
            "__________________________________________________________________________________________________\n",
            "Batch113 (BatchNormalization)   (None, 32, 32, 240)  960         Concat112[0][0]                  \n",
            "__________________________________________________________________________________________________\n",
            "Activation113 (Activation)      (None, 32, 32, 240)  0           Batch113[0][0]                   \n",
            "__________________________________________________________________________________________________\n",
            "Conv113 (Conv2D)                (None, 32, 32, 16)   34560       Activation113[0][0]              \n",
            "__________________________________________________________________________________________________\n",
            "Dropout113 (Dropout)            (None, 32, 32, 16)   0           Conv113[0][0]                    \n",
            "__________________________________________________________________________________________________\n",
            "Concat113 (Concatenate)         (None, 32, 32, 256)  0           Concat112[0][0]                  \n",
            "                                                                 Dropout113[0][0]                 \n",
            "__________________________________________________________________________________________________\n",
            "Batch114 (BatchNormalization)   (None, 32, 32, 256)  1024        Concat113[0][0]                  \n",
            "__________________________________________________________________________________________________\n",
            "Activation114 (Activation)      (None, 32, 32, 256)  0           Batch114[0][0]                   \n",
            "__________________________________________________________________________________________________\n",
            "Conv114 (Conv2D)                (None, 32, 32, 16)   36864       Activation114[0][0]              \n",
            "__________________________________________________________________________________________________\n",
            "Dropout114 (Dropout)            (None, 32, 32, 16)   0           Conv114[0][0]                    \n",
            "__________________________________________________________________________________________________\n",
            "Concat114 (Concatenate)         (None, 32, 32, 272)  0           Concat113[0][0]                  \n",
            "                                                                 Dropout114[0][0]                 \n",
            "__________________________________________________________________________________________________\n",
            "Batch115 (BatchNormalization)   (None, 32, 32, 272)  1088        Concat114[0][0]                  \n",
            "__________________________________________________________________________________________________\n",
            "Activation115 (Activation)      (None, 32, 32, 272)  0           Batch115[0][0]                   \n",
            "__________________________________________________________________________________________________\n",
            "Conv115 (Conv2D)                (None, 32, 32, 16)   39168       Activation115[0][0]              \n",
            "__________________________________________________________________________________________________\n",
            "Dropout115 (Dropout)            (None, 32, 32, 16)   0           Conv115[0][0]                    \n",
            "__________________________________________________________________________________________________\n",
            "Concat115 (Concatenate)         (None, 32, 32, 288)  0           Concat114[0][0]                  \n",
            "                                                                 Dropout115[0][0]                 \n",
            "__________________________________________________________________________________________________\n",
            "Batch_transition1 (BatchNormali (None, 32, 32, 288)  1152        Concat115[0][0]                  \n",
            "__________________________________________________________________________________________________\n",
            "Activation_transition1 (Activat (None, 32, 32, 288)  0           Batch_transition1[0][0]          \n",
            "__________________________________________________________________________________________________\n",
            "Conv_transition1 (Conv2D)       (None, 32, 32, 16)   4608        Activation_transition1[0][0]     \n",
            "__________________________________________________________________________________________________\n",
            "Dropout_transition1 (Dropout)   (None, 32, 32, 16)   0           Conv_transition1[0][0]           \n",
            "__________________________________________________________________________________________________\n",
            "AvgPooling_transition1 (Average (None, 16, 16, 16)   0           Dropout_transition1[0][0]        \n",
            "__________________________________________________________________________________________________\n",
            "Batch20 (BatchNormalization)    (None, 16, 16, 16)   64          AvgPooling_transition1[0][0]     \n",
            "__________________________________________________________________________________________________\n",
            "Activation20 (Activation)       (None, 16, 16, 16)   0           Batch20[0][0]                    \n",
            "__________________________________________________________________________________________________\n",
            "Conv20 (Conv2D)                 (None, 16, 16, 16)   2304        Activation20[0][0]               \n",
            "__________________________________________________________________________________________________\n",
            "Dropout20 (Dropout)             (None, 16, 16, 16)   0           Conv20[0][0]                     \n",
            "__________________________________________________________________________________________________\n",
            "Concat20 (Concatenate)          (None, 16, 16, 32)   0           AvgPooling_transition1[0][0]     \n",
            "                                                                 Dropout20[0][0]                  \n",
            "__________________________________________________________________________________________________\n",
            "Batch21 (BatchNormalization)    (None, 16, 16, 32)   128         Concat20[0][0]                   \n",
            "__________________________________________________________________________________________________\n",
            "Activation21 (Activation)       (None, 16, 16, 32)   0           Batch21[0][0]                    \n",
            "__________________________________________________________________________________________________\n",
            "Conv21 (Conv2D)                 (None, 16, 16, 16)   4608        Activation21[0][0]               \n",
            "__________________________________________________________________________________________________\n",
            "Dropout21 (Dropout)             (None, 16, 16, 16)   0           Conv21[0][0]                     \n",
            "__________________________________________________________________________________________________\n",
            "Concat21 (Concatenate)          (None, 16, 16, 48)   0           Concat20[0][0]                   \n",
            "                                                                 Dropout21[0][0]                  \n",
            "__________________________________________________________________________________________________\n",
            "Batch22 (BatchNormalization)    (None, 16, 16, 48)   192         Concat21[0][0]                   \n",
            "__________________________________________________________________________________________________\n",
            "Activation22 (Activation)       (None, 16, 16, 48)   0           Batch22[0][0]                    \n",
            "__________________________________________________________________________________________________\n",
            "Conv22 (Conv2D)                 (None, 16, 16, 16)   6912        Activation22[0][0]               \n",
            "__________________________________________________________________________________________________\n",
            "Dropout22 (Dropout)             (None, 16, 16, 16)   0           Conv22[0][0]                     \n",
            "__________________________________________________________________________________________________\n",
            "Concat22 (Concatenate)          (None, 16, 16, 64)   0           Concat21[0][0]                   \n",
            "                                                                 Dropout22[0][0]                  \n",
            "__________________________________________________________________________________________________\n",
            "Batch23 (BatchNormalization)    (None, 16, 16, 64)   256         Concat22[0][0]                   \n",
            "__________________________________________________________________________________________________\n",
            "Activation23 (Activation)       (None, 16, 16, 64)   0           Batch23[0][0]                    \n",
            "__________________________________________________________________________________________________\n",
            "Conv23 (Conv2D)                 (None, 16, 16, 16)   9216        Activation23[0][0]               \n",
            "__________________________________________________________________________________________________\n",
            "Dropout23 (Dropout)             (None, 16, 16, 16)   0           Conv23[0][0]                     \n",
            "__________________________________________________________________________________________________\n",
            "Concat23 (Concatenate)          (None, 16, 16, 80)   0           Concat22[0][0]                   \n",
            "                                                                 Dropout23[0][0]                  \n",
            "__________________________________________________________________________________________________\n",
            "Batch24 (BatchNormalization)    (None, 16, 16, 80)   320         Concat23[0][0]                   \n",
            "__________________________________________________________________________________________________\n",
            "Activation24 (Activation)       (None, 16, 16, 80)   0           Batch24[0][0]                    \n",
            "__________________________________________________________________________________________________\n",
            "Conv24 (Conv2D)                 (None, 16, 16, 16)   11520       Activation24[0][0]               \n",
            "__________________________________________________________________________________________________\n",
            "Dropout24 (Dropout)             (None, 16, 16, 16)   0           Conv24[0][0]                     \n",
            "__________________________________________________________________________________________________\n",
            "Concat24 (Concatenate)          (None, 16, 16, 96)   0           Concat23[0][0]                   \n",
            "                                                                 Dropout24[0][0]                  \n",
            "__________________________________________________________________________________________________\n",
            "Batch25 (BatchNormalization)    (None, 16, 16, 96)   384         Concat24[0][0]                   \n",
            "__________________________________________________________________________________________________\n",
            "Activation25 (Activation)       (None, 16, 16, 96)   0           Batch25[0][0]                    \n",
            "__________________________________________________________________________________________________\n",
            "Conv25 (Conv2D)                 (None, 16, 16, 16)   13824       Activation25[0][0]               \n",
            "__________________________________________________________________________________________________\n",
            "Dropout25 (Dropout)             (None, 16, 16, 16)   0           Conv25[0][0]                     \n",
            "__________________________________________________________________________________________________\n",
            "Concat25 (Concatenate)          (None, 16, 16, 112)  0           Concat24[0][0]                   \n",
            "                                                                 Dropout25[0][0]                  \n",
            "__________________________________________________________________________________________________\n",
            "Batch26 (BatchNormalization)    (None, 16, 16, 112)  448         Concat25[0][0]                   \n",
            "__________________________________________________________________________________________________\n",
            "Activation26 (Activation)       (None, 16, 16, 112)  0           Batch26[0][0]                    \n",
            "__________________________________________________________________________________________________\n",
            "Conv26 (Conv2D)                 (None, 16, 16, 16)   16128       Activation26[0][0]               \n",
            "__________________________________________________________________________________________________\n",
            "Dropout26 (Dropout)             (None, 16, 16, 16)   0           Conv26[0][0]                     \n",
            "__________________________________________________________________________________________________\n",
            "Concat26 (Concatenate)          (None, 16, 16, 128)  0           Concat25[0][0]                   \n",
            "                                                                 Dropout26[0][0]                  \n",
            "__________________________________________________________________________________________________\n",
            "Batch27 (BatchNormalization)    (None, 16, 16, 128)  512         Concat26[0][0]                   \n",
            "__________________________________________________________________________________________________\n",
            "Activation27 (Activation)       (None, 16, 16, 128)  0           Batch27[0][0]                    \n",
            "__________________________________________________________________________________________________\n",
            "Conv27 (Conv2D)                 (None, 16, 16, 16)   18432       Activation27[0][0]               \n",
            "__________________________________________________________________________________________________\n",
            "Dropout27 (Dropout)             (None, 16, 16, 16)   0           Conv27[0][0]                     \n",
            "__________________________________________________________________________________________________\n",
            "Concat27 (Concatenate)          (None, 16, 16, 144)  0           Concat26[0][0]                   \n",
            "                                                                 Dropout27[0][0]                  \n",
            "__________________________________________________________________________________________________\n",
            "Batch28 (BatchNormalization)    (None, 16, 16, 144)  576         Concat27[0][0]                   \n",
            "__________________________________________________________________________________________________\n",
            "Activation28 (Activation)       (None, 16, 16, 144)  0           Batch28[0][0]                    \n",
            "__________________________________________________________________________________________________\n",
            "Conv28 (Conv2D)                 (None, 16, 16, 16)   20736       Activation28[0][0]               \n",
            "__________________________________________________________________________________________________\n",
            "Dropout28 (Dropout)             (None, 16, 16, 16)   0           Conv28[0][0]                     \n",
            "__________________________________________________________________________________________________\n",
            "Concat28 (Concatenate)          (None, 16, 16, 160)  0           Concat27[0][0]                   \n",
            "                                                                 Dropout28[0][0]                  \n",
            "__________________________________________________________________________________________________\n",
            "Batch29 (BatchNormalization)    (None, 16, 16, 160)  640         Concat28[0][0]                   \n",
            "__________________________________________________________________________________________________\n",
            "Activation29 (Activation)       (None, 16, 16, 160)  0           Batch29[0][0]                    \n",
            "__________________________________________________________________________________________________\n",
            "Conv29 (Conv2D)                 (None, 16, 16, 16)   23040       Activation29[0][0]               \n",
            "__________________________________________________________________________________________________\n",
            "Dropout29 (Dropout)             (None, 16, 16, 16)   0           Conv29[0][0]                     \n",
            "__________________________________________________________________________________________________\n",
            "Concat29 (Concatenate)          (None, 16, 16, 176)  0           Concat28[0][0]                   \n",
            "                                                                 Dropout29[0][0]                  \n",
            "__________________________________________________________________________________________________\n",
            "Batch210 (BatchNormalization)   (None, 16, 16, 176)  704         Concat29[0][0]                   \n",
            "__________________________________________________________________________________________________\n",
            "Activation210 (Activation)      (None, 16, 16, 176)  0           Batch210[0][0]                   \n",
            "__________________________________________________________________________________________________\n",
            "Conv210 (Conv2D)                (None, 16, 16, 16)   25344       Activation210[0][0]              \n",
            "__________________________________________________________________________________________________\n",
            "Dropout210 (Dropout)            (None, 16, 16, 16)   0           Conv210[0][0]                    \n",
            "__________________________________________________________________________________________________\n",
            "Concat210 (Concatenate)         (None, 16, 16, 192)  0           Concat29[0][0]                   \n",
            "                                                                 Dropout210[0][0]                 \n",
            "__________________________________________________________________________________________________\n",
            "Batch211 (BatchNormalization)   (None, 16, 16, 192)  768         Concat210[0][0]                  \n",
            "__________________________________________________________________________________________________\n",
            "Activation211 (Activation)      (None, 16, 16, 192)  0           Batch211[0][0]                   \n",
            "__________________________________________________________________________________________________\n",
            "Conv211 (Conv2D)                (None, 16, 16, 16)   27648       Activation211[0][0]              \n",
            "__________________________________________________________________________________________________\n",
            "Dropout211 (Dropout)            (None, 16, 16, 16)   0           Conv211[0][0]                    \n",
            "__________________________________________________________________________________________________\n",
            "Concat211 (Concatenate)         (None, 16, 16, 208)  0           Concat210[0][0]                  \n",
            "                                                                 Dropout211[0][0]                 \n",
            "__________________________________________________________________________________________________\n",
            "Batch212 (BatchNormalization)   (None, 16, 16, 208)  832         Concat211[0][0]                  \n",
            "__________________________________________________________________________________________________\n",
            "Activation212 (Activation)      (None, 16, 16, 208)  0           Batch212[0][0]                   \n",
            "__________________________________________________________________________________________________\n",
            "Conv212 (Conv2D)                (None, 16, 16, 16)   29952       Activation212[0][0]              \n",
            "__________________________________________________________________________________________________\n",
            "Dropout212 (Dropout)            (None, 16, 16, 16)   0           Conv212[0][0]                    \n",
            "__________________________________________________________________________________________________\n",
            "Concat212 (Concatenate)         (None, 16, 16, 224)  0           Concat211[0][0]                  \n",
            "                                                                 Dropout212[0][0]                 \n",
            "__________________________________________________________________________________________________\n",
            "Batch213 (BatchNormalization)   (None, 16, 16, 224)  896         Concat212[0][0]                  \n",
            "__________________________________________________________________________________________________\n",
            "Activation213 (Activation)      (None, 16, 16, 224)  0           Batch213[0][0]                   \n",
            "__________________________________________________________________________________________________\n",
            "Conv213 (Conv2D)                (None, 16, 16, 16)   32256       Activation213[0][0]              \n",
            "__________________________________________________________________________________________________\n",
            "Dropout213 (Dropout)            (None, 16, 16, 16)   0           Conv213[0][0]                    \n",
            "__________________________________________________________________________________________________\n",
            "Concat213 (Concatenate)         (None, 16, 16, 240)  0           Concat212[0][0]                  \n",
            "                                                                 Dropout213[0][0]                 \n",
            "__________________________________________________________________________________________________\n",
            "Batch214 (BatchNormalization)   (None, 16, 16, 240)  960         Concat213[0][0]                  \n",
            "__________________________________________________________________________________________________\n",
            "Activation214 (Activation)      (None, 16, 16, 240)  0           Batch214[0][0]                   \n",
            "__________________________________________________________________________________________________\n",
            "Conv214 (Conv2D)                (None, 16, 16, 16)   34560       Activation214[0][0]              \n",
            "__________________________________________________________________________________________________\n",
            "Dropout214 (Dropout)            (None, 16, 16, 16)   0           Conv214[0][0]                    \n",
            "__________________________________________________________________________________________________\n",
            "Concat214 (Concatenate)         (None, 16, 16, 256)  0           Concat213[0][0]                  \n",
            "                                                                 Dropout214[0][0]                 \n",
            "__________________________________________________________________________________________________\n",
            "Batch215 (BatchNormalization)   (None, 16, 16, 256)  1024        Concat214[0][0]                  \n",
            "__________________________________________________________________________________________________\n",
            "Activation215 (Activation)      (None, 16, 16, 256)  0           Batch215[0][0]                   \n",
            "__________________________________________________________________________________________________\n",
            "Conv215 (Conv2D)                (None, 16, 16, 16)   36864       Activation215[0][0]              \n",
            "__________________________________________________________________________________________________\n",
            "Dropout215 (Dropout)            (None, 16, 16, 16)   0           Conv215[0][0]                    \n",
            "__________________________________________________________________________________________________\n",
            "Concat215 (Concatenate)         (None, 16, 16, 272)  0           Concat214[0][0]                  \n",
            "                                                                 Dropout215[0][0]                 \n",
            "__________________________________________________________________________________________________\n",
            "Batch_transition2 (BatchNormali (None, 16, 16, 272)  1088        Concat215[0][0]                  \n",
            "__________________________________________________________________________________________________\n",
            "Activation_transition2 (Activat (None, 16, 16, 272)  0           Batch_transition2[0][0]          \n",
            "__________________________________________________________________________________________________\n",
            "Conv_transition2 (Conv2D)       (None, 16, 16, 16)   4352        Activation_transition2[0][0]     \n",
            "__________________________________________________________________________________________________\n",
            "Dropout_transition2 (Dropout)   (None, 16, 16, 16)   0           Conv_transition2[0][0]           \n",
            "__________________________________________________________________________________________________\n",
            "AvgPooling_transition2 (Average (None, 8, 8, 16)     0           Dropout_transition2[0][0]        \n",
            "__________________________________________________________________________________________________\n",
            "Batch30 (BatchNormalization)    (None, 8, 8, 16)     64          AvgPooling_transition2[0][0]     \n",
            "__________________________________________________________________________________________________\n",
            "Activation30 (Activation)       (None, 8, 8, 16)     0           Batch30[0][0]                    \n",
            "__________________________________________________________________________________________________\n",
            "Conv30 (Conv2D)                 (None, 8, 8, 16)     2304        Activation30[0][0]               \n",
            "__________________________________________________________________________________________________\n",
            "Dropout30 (Dropout)             (None, 8, 8, 16)     0           Conv30[0][0]                     \n",
            "__________________________________________________________________________________________________\n",
            "Concat30 (Concatenate)          (None, 8, 8, 32)     0           AvgPooling_transition2[0][0]     \n",
            "                                                                 Dropout30[0][0]                  \n",
            "__________________________________________________________________________________________________\n",
            "Batch31 (BatchNormalization)    (None, 8, 8, 32)     128         Concat30[0][0]                   \n",
            "__________________________________________________________________________________________________\n",
            "Activation31 (Activation)       (None, 8, 8, 32)     0           Batch31[0][0]                    \n",
            "__________________________________________________________________________________________________\n",
            "Conv31 (Conv2D)                 (None, 8, 8, 16)     4608        Activation31[0][0]               \n",
            "__________________________________________________________________________________________________\n",
            "Dropout31 (Dropout)             (None, 8, 8, 16)     0           Conv31[0][0]                     \n",
            "__________________________________________________________________________________________________\n",
            "Concat31 (Concatenate)          (None, 8, 8, 48)     0           Concat30[0][0]                   \n",
            "                                                                 Dropout31[0][0]                  \n",
            "__________________________________________________________________________________________________\n",
            "Batch32 (BatchNormalization)    (None, 8, 8, 48)     192         Concat31[0][0]                   \n",
            "__________________________________________________________________________________________________\n",
            "Activation32 (Activation)       (None, 8, 8, 48)     0           Batch32[0][0]                    \n",
            "__________________________________________________________________________________________________\n",
            "Conv32 (Conv2D)                 (None, 8, 8, 16)     6912        Activation32[0][0]               \n",
            "__________________________________________________________________________________________________\n",
            "Dropout32 (Dropout)             (None, 8, 8, 16)     0           Conv32[0][0]                     \n",
            "__________________________________________________________________________________________________\n",
            "Concat32 (Concatenate)          (None, 8, 8, 64)     0           Concat31[0][0]                   \n",
            "                                                                 Dropout32[0][0]                  \n",
            "__________________________________________________________________________________________________\n",
            "Batch33 (BatchNormalization)    (None, 8, 8, 64)     256         Concat32[0][0]                   \n",
            "__________________________________________________________________________________________________\n",
            "Activation33 (Activation)       (None, 8, 8, 64)     0           Batch33[0][0]                    \n",
            "__________________________________________________________________________________________________\n",
            "Conv33 (Conv2D)                 (None, 8, 8, 16)     9216        Activation33[0][0]               \n",
            "__________________________________________________________________________________________________\n",
            "Dropout33 (Dropout)             (None, 8, 8, 16)     0           Conv33[0][0]                     \n",
            "__________________________________________________________________________________________________\n",
            "Concat33 (Concatenate)          (None, 8, 8, 80)     0           Concat32[0][0]                   \n",
            "                                                                 Dropout33[0][0]                  \n",
            "__________________________________________________________________________________________________\n",
            "Batch34 (BatchNormalization)    (None, 8, 8, 80)     320         Concat33[0][0]                   \n",
            "__________________________________________________________________________________________________\n",
            "Activation34 (Activation)       (None, 8, 8, 80)     0           Batch34[0][0]                    \n",
            "__________________________________________________________________________________________________\n",
            "Conv34 (Conv2D)                 (None, 8, 8, 16)     11520       Activation34[0][0]               \n",
            "__________________________________________________________________________________________________\n",
            "Dropout34 (Dropout)             (None, 8, 8, 16)     0           Conv34[0][0]                     \n",
            "__________________________________________________________________________________________________\n",
            "Concat34 (Concatenate)          (None, 8, 8, 96)     0           Concat33[0][0]                   \n",
            "                                                                 Dropout34[0][0]                  \n",
            "__________________________________________________________________________________________________\n",
            "Batch35 (BatchNormalization)    (None, 8, 8, 96)     384         Concat34[0][0]                   \n",
            "__________________________________________________________________________________________________\n",
            "Activation35 (Activation)       (None, 8, 8, 96)     0           Batch35[0][0]                    \n",
            "__________________________________________________________________________________________________\n",
            "Conv35 (Conv2D)                 (None, 8, 8, 16)     13824       Activation35[0][0]               \n",
            "__________________________________________________________________________________________________\n",
            "Dropout35 (Dropout)             (None, 8, 8, 16)     0           Conv35[0][0]                     \n",
            "__________________________________________________________________________________________________\n",
            "Concat35 (Concatenate)          (None, 8, 8, 112)    0           Concat34[0][0]                   \n",
            "                                                                 Dropout35[0][0]                  \n",
            "__________________________________________________________________________________________________\n",
            "Batch36 (BatchNormalization)    (None, 8, 8, 112)    448         Concat35[0][0]                   \n",
            "__________________________________________________________________________________________________\n",
            "Activation36 (Activation)       (None, 8, 8, 112)    0           Batch36[0][0]                    \n",
            "__________________________________________________________________________________________________\n",
            "Conv36 (Conv2D)                 (None, 8, 8, 16)     16128       Activation36[0][0]               \n",
            "__________________________________________________________________________________________________\n",
            "Dropout36 (Dropout)             (None, 8, 8, 16)     0           Conv36[0][0]                     \n",
            "__________________________________________________________________________________________________\n",
            "Concat36 (Concatenate)          (None, 8, 8, 128)    0           Concat35[0][0]                   \n",
            "                                                                 Dropout36[0][0]                  \n",
            "__________________________________________________________________________________________________\n",
            "Batch37 (BatchNormalization)    (None, 8, 8, 128)    512         Concat36[0][0]                   \n",
            "__________________________________________________________________________________________________\n",
            "Activation37 (Activation)       (None, 8, 8, 128)    0           Batch37[0][0]                    \n",
            "__________________________________________________________________________________________________\n",
            "Conv37 (Conv2D)                 (None, 8, 8, 16)     18432       Activation37[0][0]               \n",
            "__________________________________________________________________________________________________\n",
            "Dropout37 (Dropout)             (None, 8, 8, 16)     0           Conv37[0][0]                     \n",
            "__________________________________________________________________________________________________\n",
            "Concat37 (Concatenate)          (None, 8, 8, 144)    0           Concat36[0][0]                   \n",
            "                                                                 Dropout37[0][0]                  \n",
            "__________________________________________________________________________________________________\n",
            "Batch38 (BatchNormalization)    (None, 8, 8, 144)    576         Concat37[0][0]                   \n",
            "__________________________________________________________________________________________________\n",
            "Activation38 (Activation)       (None, 8, 8, 144)    0           Batch38[0][0]                    \n",
            "__________________________________________________________________________________________________\n",
            "Conv38 (Conv2D)                 (None, 8, 8, 16)     20736       Activation38[0][0]               \n",
            "__________________________________________________________________________________________________\n",
            "Dropout38 (Dropout)             (None, 8, 8, 16)     0           Conv38[0][0]                     \n",
            "__________________________________________________________________________________________________\n",
            "Concat38 (Concatenate)          (None, 8, 8, 160)    0           Concat37[0][0]                   \n",
            "                                                                 Dropout38[0][0]                  \n",
            "__________________________________________________________________________________________________\n",
            "Batch39 (BatchNormalization)    (None, 8, 8, 160)    640         Concat38[0][0]                   \n",
            "__________________________________________________________________________________________________\n",
            "Activation39 (Activation)       (None, 8, 8, 160)    0           Batch39[0][0]                    \n",
            "__________________________________________________________________________________________________\n",
            "Conv39 (Conv2D)                 (None, 8, 8, 16)     23040       Activation39[0][0]               \n",
            "__________________________________________________________________________________________________\n",
            "Dropout39 (Dropout)             (None, 8, 8, 16)     0           Conv39[0][0]                     \n",
            "__________________________________________________________________________________________________\n",
            "Concat39 (Concatenate)          (None, 8, 8, 176)    0           Concat38[0][0]                   \n",
            "                                                                 Dropout39[0][0]                  \n",
            "__________________________________________________________________________________________________\n",
            "Batch310 (BatchNormalization)   (None, 8, 8, 176)    704         Concat39[0][0]                   \n",
            "__________________________________________________________________________________________________\n",
            "Activation310 (Activation)      (None, 8, 8, 176)    0           Batch310[0][0]                   \n",
            "__________________________________________________________________________________________________\n",
            "Conv310 (Conv2D)                (None, 8, 8, 16)     25344       Activation310[0][0]              \n",
            "__________________________________________________________________________________________________\n",
            "Dropout310 (Dropout)            (None, 8, 8, 16)     0           Conv310[0][0]                    \n",
            "__________________________________________________________________________________________________\n",
            "Concat310 (Concatenate)         (None, 8, 8, 192)    0           Concat39[0][0]                   \n",
            "                                                                 Dropout310[0][0]                 \n",
            "__________________________________________________________________________________________________\n",
            "Batch311 (BatchNormalization)   (None, 8, 8, 192)    768         Concat310[0][0]                  \n",
            "__________________________________________________________________________________________________\n",
            "Activation311 (Activation)      (None, 8, 8, 192)    0           Batch311[0][0]                   \n",
            "__________________________________________________________________________________________________\n",
            "Conv311 (Conv2D)                (None, 8, 8, 16)     27648       Activation311[0][0]              \n",
            "__________________________________________________________________________________________________\n",
            "Dropout311 (Dropout)            (None, 8, 8, 16)     0           Conv311[0][0]                    \n",
            "__________________________________________________________________________________________________\n",
            "Concat311 (Concatenate)         (None, 8, 8, 208)    0           Concat310[0][0]                  \n",
            "                                                                 Dropout311[0][0]                 \n",
            "__________________________________________________________________________________________________\n",
            "Batch312 (BatchNormalization)   (None, 8, 8, 208)    832         Concat311[0][0]                  \n",
            "__________________________________________________________________________________________________\n",
            "Activation312 (Activation)      (None, 8, 8, 208)    0           Batch312[0][0]                   \n",
            "__________________________________________________________________________________________________\n",
            "Conv312 (Conv2D)                (None, 8, 8, 16)     29952       Activation312[0][0]              \n",
            "__________________________________________________________________________________________________\n",
            "Dropout312 (Dropout)            (None, 8, 8, 16)     0           Conv312[0][0]                    \n",
            "__________________________________________________________________________________________________\n",
            "Concat312 (Concatenate)         (None, 8, 8, 224)    0           Concat311[0][0]                  \n",
            "                                                                 Dropout312[0][0]                 \n",
            "__________________________________________________________________________________________________\n",
            "Batch313 (BatchNormalization)   (None, 8, 8, 224)    896         Concat312[0][0]                  \n",
            "__________________________________________________________________________________________________\n",
            "Activation313 (Activation)      (None, 8, 8, 224)    0           Batch313[0][0]                   \n",
            "__________________________________________________________________________________________________\n",
            "Conv313 (Conv2D)                (None, 8, 8, 16)     32256       Activation313[0][0]              \n",
            "__________________________________________________________________________________________________\n",
            "Dropout313 (Dropout)            (None, 8, 8, 16)     0           Conv313[0][0]                    \n",
            "__________________________________________________________________________________________________\n",
            "Concat313 (Concatenate)         (None, 8, 8, 240)    0           Concat312[0][0]                  \n",
            "                                                                 Dropout313[0][0]                 \n",
            "__________________________________________________________________________________________________\n",
            "Batch314 (BatchNormalization)   (None, 8, 8, 240)    960         Concat313[0][0]                  \n",
            "__________________________________________________________________________________________________\n",
            "Activation314 (Activation)      (None, 8, 8, 240)    0           Batch314[0][0]                   \n",
            "__________________________________________________________________________________________________\n",
            "Conv314 (Conv2D)                (None, 8, 8, 16)     34560       Activation314[0][0]              \n",
            "__________________________________________________________________________________________________\n",
            "Dropout314 (Dropout)            (None, 8, 8, 16)     0           Conv314[0][0]                    \n",
            "__________________________________________________________________________________________________\n",
            "Concat314 (Concatenate)         (None, 8, 8, 256)    0           Concat313[0][0]                  \n",
            "                                                                 Dropout314[0][0]                 \n",
            "__________________________________________________________________________________________________\n",
            "Batch315 (BatchNormalization)   (None, 8, 8, 256)    1024        Concat314[0][0]                  \n",
            "__________________________________________________________________________________________________\n",
            "Activation315 (Activation)      (None, 8, 8, 256)    0           Batch315[0][0]                   \n",
            "__________________________________________________________________________________________________\n",
            "Conv315 (Conv2D)                (None, 8, 8, 16)     36864       Activation315[0][0]              \n",
            "__________________________________________________________________________________________________\n",
            "Dropout315 (Dropout)            (None, 8, 8, 16)     0           Conv315[0][0]                    \n",
            "__________________________________________________________________________________________________\n",
            "Concat315 (Concatenate)         (None, 8, 8, 272)    0           Concat314[0][0]                  \n",
            "                                                                 Dropout315[0][0]                 \n",
            "__________________________________________________________________________________________________\n",
            "Batch_transition3 (BatchNormali (None, 8, 8, 272)    1088        Concat315[0][0]                  \n",
            "__________________________________________________________________________________________________\n",
            "Activation_transition3 (Activat (None, 8, 8, 272)    0           Batch_transition3[0][0]          \n",
            "__________________________________________________________________________________________________\n",
            "Conv_transition3 (Conv2D)       (None, 8, 8, 16)     4352        Activation_transition3[0][0]     \n",
            "__________________________________________________________________________________________________\n",
            "Dropout_transition3 (Dropout)   (None, 8, 8, 16)     0           Conv_transition3[0][0]           \n",
            "__________________________________________________________________________________________________\n",
            "AvgPooling_transition3 (Average (None, 4, 4, 16)     0           Dropout_transition3[0][0]        \n",
            "__________________________________________________________________________________________________\n",
            "Batch40 (BatchNormalization)    (None, 4, 4, 16)     64          AvgPooling_transition3[0][0]     \n",
            "__________________________________________________________________________________________________\n",
            "Activation40 (Activation)       (None, 4, 4, 16)     0           Batch40[0][0]                    \n",
            "__________________________________________________________________________________________________\n",
            "Conv40 (Conv2D)                 (None, 4, 4, 16)     2304        Activation40[0][0]               \n",
            "__________________________________________________________________________________________________\n",
            "Dropout40 (Dropout)             (None, 4, 4, 16)     0           Conv40[0][0]                     \n",
            "__________________________________________________________________________________________________\n",
            "Concat40 (Concatenate)          (None, 4, 4, 32)     0           AvgPooling_transition3[0][0]     \n",
            "                                                                 Dropout40[0][0]                  \n",
            "__________________________________________________________________________________________________\n",
            "Batch41 (BatchNormalization)    (None, 4, 4, 32)     128         Concat40[0][0]                   \n",
            "__________________________________________________________________________________________________\n",
            "Activation41 (Activation)       (None, 4, 4, 32)     0           Batch41[0][0]                    \n",
            "__________________________________________________________________________________________________\n",
            "Conv41 (Conv2D)                 (None, 4, 4, 16)     4608        Activation41[0][0]               \n",
            "__________________________________________________________________________________________________\n",
            "Dropout41 (Dropout)             (None, 4, 4, 16)     0           Conv41[0][0]                     \n",
            "__________________________________________________________________________________________________\n",
            "Concat41 (Concatenate)          (None, 4, 4, 48)     0           Concat40[0][0]                   \n",
            "                                                                 Dropout41[0][0]                  \n",
            "__________________________________________________________________________________________________\n",
            "Batch42 (BatchNormalization)    (None, 4, 4, 48)     192         Concat41[0][0]                   \n",
            "__________________________________________________________________________________________________\n",
            "Activation42 (Activation)       (None, 4, 4, 48)     0           Batch42[0][0]                    "
          ],
          "name": "stdout"
        },
        {
          "output_type": "stream",
          "text": [
            "\n",
            "__________________________________________________________________________________________________\n",
            "Conv42 (Conv2D)                 (None, 4, 4, 16)     6912        Activation42[0][0]               \n",
            "__________________________________________________________________________________________________\n",
            "Dropout42 (Dropout)             (None, 4, 4, 16)     0           Conv42[0][0]                     \n",
            "__________________________________________________________________________________________________\n",
            "Concat42 (Concatenate)          (None, 4, 4, 64)     0           Concat41[0][0]                   \n",
            "                                                                 Dropout42[0][0]                  \n",
            "__________________________________________________________________________________________________\n",
            "Batch43 (BatchNormalization)    (None, 4, 4, 64)     256         Concat42[0][0]                   \n",
            "__________________________________________________________________________________________________\n",
            "Activation43 (Activation)       (None, 4, 4, 64)     0           Batch43[0][0]                    \n",
            "__________________________________________________________________________________________________\n",
            "Conv43 (Conv2D)                 (None, 4, 4, 16)     9216        Activation43[0][0]               \n",
            "__________________________________________________________________________________________________\n",
            "Dropout43 (Dropout)             (None, 4, 4, 16)     0           Conv43[0][0]                     \n",
            "__________________________________________________________________________________________________\n",
            "Concat43 (Concatenate)          (None, 4, 4, 80)     0           Concat42[0][0]                   \n",
            "                                                                 Dropout43[0][0]                  \n",
            "__________________________________________________________________________________________________\n",
            "Batch44 (BatchNormalization)    (None, 4, 4, 80)     320         Concat43[0][0]                   \n",
            "__________________________________________________________________________________________________\n",
            "Activation44 (Activation)       (None, 4, 4, 80)     0           Batch44[0][0]                    \n",
            "__________________________________________________________________________________________________\n",
            "Conv44 (Conv2D)                 (None, 4, 4, 16)     11520       Activation44[0][0]               \n",
            "__________________________________________________________________________________________________\n",
            "Dropout44 (Dropout)             (None, 4, 4, 16)     0           Conv44[0][0]                     \n",
            "__________________________________________________________________________________________________\n",
            "Concat44 (Concatenate)          (None, 4, 4, 96)     0           Concat43[0][0]                   \n",
            "                                                                 Dropout44[0][0]                  \n",
            "__________________________________________________________________________________________________\n",
            "Batch45 (BatchNormalization)    (None, 4, 4, 96)     384         Concat44[0][0]                   \n",
            "__________________________________________________________________________________________________\n",
            "Activation45 (Activation)       (None, 4, 4, 96)     0           Batch45[0][0]                    \n",
            "__________________________________________________________________________________________________\n",
            "Conv45 (Conv2D)                 (None, 4, 4, 16)     13824       Activation45[0][0]               \n",
            "__________________________________________________________________________________________________\n",
            "Dropout45 (Dropout)             (None, 4, 4, 16)     0           Conv45[0][0]                     \n",
            "__________________________________________________________________________________________________\n",
            "Concat45 (Concatenate)          (None, 4, 4, 112)    0           Concat44[0][0]                   \n",
            "                                                                 Dropout45[0][0]                  \n",
            "__________________________________________________________________________________________________\n",
            "Batch46 (BatchNormalization)    (None, 4, 4, 112)    448         Concat45[0][0]                   \n",
            "__________________________________________________________________________________________________\n",
            "Activation46 (Activation)       (None, 4, 4, 112)    0           Batch46[0][0]                    \n",
            "__________________________________________________________________________________________________\n",
            "Conv46 (Conv2D)                 (None, 4, 4, 16)     16128       Activation46[0][0]               \n",
            "__________________________________________________________________________________________________\n",
            "Dropout46 (Dropout)             (None, 4, 4, 16)     0           Conv46[0][0]                     \n",
            "__________________________________________________________________________________________________\n",
            "Concat46 (Concatenate)          (None, 4, 4, 128)    0           Concat45[0][0]                   \n",
            "                                                                 Dropout46[0][0]                  \n",
            "__________________________________________________________________________________________________\n",
            "Batch47 (BatchNormalization)    (None, 4, 4, 128)    512         Concat46[0][0]                   \n",
            "__________________________________________________________________________________________________\n",
            "Activation47 (Activation)       (None, 4, 4, 128)    0           Batch47[0][0]                    \n",
            "__________________________________________________________________________________________________\n",
            "Conv47 (Conv2D)                 (None, 4, 4, 16)     18432       Activation47[0][0]               \n",
            "__________________________________________________________________________________________________\n",
            "Dropout47 (Dropout)             (None, 4, 4, 16)     0           Conv47[0][0]                     \n",
            "__________________________________________________________________________________________________\n",
            "Concat47 (Concatenate)          (None, 4, 4, 144)    0           Concat46[0][0]                   \n",
            "                                                                 Dropout47[0][0]                  \n",
            "__________________________________________________________________________________________________\n",
            "Batch48 (BatchNormalization)    (None, 4, 4, 144)    576         Concat47[0][0]                   \n",
            "__________________________________________________________________________________________________\n",
            "Activation48 (Activation)       (None, 4, 4, 144)    0           Batch48[0][0]                    \n",
            "__________________________________________________________________________________________________\n",
            "Conv48 (Conv2D)                 (None, 4, 4, 16)     20736       Activation48[0][0]               \n",
            "__________________________________________________________________________________________________\n",
            "Dropout48 (Dropout)             (None, 4, 4, 16)     0           Conv48[0][0]                     \n",
            "__________________________________________________________________________________________________\n",
            "Concat48 (Concatenate)          (None, 4, 4, 160)    0           Concat47[0][0]                   \n",
            "                                                                 Dropout48[0][0]                  \n",
            "__________________________________________________________________________________________________\n",
            "Batch49 (BatchNormalization)    (None, 4, 4, 160)    640         Concat48[0][0]                   \n",
            "__________________________________________________________________________________________________\n",
            "Activation49 (Activation)       (None, 4, 4, 160)    0           Batch49[0][0]                    \n",
            "__________________________________________________________________________________________________\n",
            "Conv49 (Conv2D)                 (None, 4, 4, 16)     23040       Activation49[0][0]               \n",
            "__________________________________________________________________________________________________\n",
            "Dropout49 (Dropout)             (None, 4, 4, 16)     0           Conv49[0][0]                     \n",
            "__________________________________________________________________________________________________\n",
            "Concat49 (Concatenate)          (None, 4, 4, 176)    0           Concat48[0][0]                   \n",
            "                                                                 Dropout49[0][0]                  \n",
            "__________________________________________________________________________________________________\n",
            "Batch410 (BatchNormalization)   (None, 4, 4, 176)    704         Concat49[0][0]                   \n",
            "__________________________________________________________________________________________________\n",
            "Activation410 (Activation)      (None, 4, 4, 176)    0           Batch410[0][0]                   \n",
            "__________________________________________________________________________________________________\n",
            "Conv410 (Conv2D)                (None, 4, 4, 16)     25344       Activation410[0][0]              \n",
            "__________________________________________________________________________________________________\n",
            "Dropout410 (Dropout)            (None, 4, 4, 16)     0           Conv410[0][0]                    \n",
            "__________________________________________________________________________________________________\n",
            "Concat410 (Concatenate)         (None, 4, 4, 192)    0           Concat49[0][0]                   \n",
            "                                                                 Dropout410[0][0]                 \n",
            "__________________________________________________________________________________________________\n",
            "Batch411 (BatchNormalization)   (None, 4, 4, 192)    768         Concat410[0][0]                  \n",
            "__________________________________________________________________________________________________\n",
            "Activation411 (Activation)      (None, 4, 4, 192)    0           Batch411[0][0]                   \n",
            "__________________________________________________________________________________________________\n",
            "Conv411 (Conv2D)                (None, 4, 4, 16)     27648       Activation411[0][0]              \n",
            "__________________________________________________________________________________________________\n",
            "Dropout411 (Dropout)            (None, 4, 4, 16)     0           Conv411[0][0]                    \n",
            "__________________________________________________________________________________________________\n",
            "Concat411 (Concatenate)         (None, 4, 4, 208)    0           Concat410[0][0]                  \n",
            "                                                                 Dropout411[0][0]                 \n",
            "__________________________________________________________________________________________________\n",
            "Batch412 (BatchNormalization)   (None, 4, 4, 208)    832         Concat411[0][0]                  \n",
            "__________________________________________________________________________________________________\n",
            "Activation412 (Activation)      (None, 4, 4, 208)    0           Batch412[0][0]                   \n",
            "__________________________________________________________________________________________________\n",
            "Conv412 (Conv2D)                (None, 4, 4, 16)     29952       Activation412[0][0]              \n",
            "__________________________________________________________________________________________________\n",
            "Dropout412 (Dropout)            (None, 4, 4, 16)     0           Conv412[0][0]                    \n",
            "__________________________________________________________________________________________________\n",
            "Concat412 (Concatenate)         (None, 4, 4, 224)    0           Concat411[0][0]                  \n",
            "                                                                 Dropout412[0][0]                 \n",
            "__________________________________________________________________________________________________\n",
            "Batch413 (BatchNormalization)   (None, 4, 4, 224)    896         Concat412[0][0]                  \n",
            "__________________________________________________________________________________________________\n",
            "Activation413 (Activation)      (None, 4, 4, 224)    0           Batch413[0][0]                   \n",
            "__________________________________________________________________________________________________\n",
            "Conv413 (Conv2D)                (None, 4, 4, 16)     32256       Activation413[0][0]              \n",
            "__________________________________________________________________________________________________\n",
            "Dropout413 (Dropout)            (None, 4, 4, 16)     0           Conv413[0][0]                    \n",
            "__________________________________________________________________________________________________\n",
            "Concat413 (Concatenate)         (None, 4, 4, 240)    0           Concat412[0][0]                  \n",
            "                                                                 Dropout413[0][0]                 \n",
            "__________________________________________________________________________________________________\n",
            "Batch414 (BatchNormalization)   (None, 4, 4, 240)    960         Concat413[0][0]                  \n",
            "__________________________________________________________________________________________________\n",
            "Activation414 (Activation)      (None, 4, 4, 240)    0           Batch414[0][0]                   \n",
            "__________________________________________________________________________________________________\n",
            "Conv414 (Conv2D)                (None, 4, 4, 16)     34560       Activation414[0][0]              \n",
            "__________________________________________________________________________________________________\n",
            "Dropout414 (Dropout)            (None, 4, 4, 16)     0           Conv414[0][0]                    \n",
            "__________________________________________________________________________________________________\n",
            "Concat414 (Concatenate)         (None, 4, 4, 256)    0           Concat413[0][0]                  \n",
            "                                                                 Dropout414[0][0]                 \n",
            "__________________________________________________________________________________________________\n",
            "Batch415 (BatchNormalization)   (None, 4, 4, 256)    1024        Concat414[0][0]                  \n",
            "__________________________________________________________________________________________________\n",
            "Activation415 (Activation)      (None, 4, 4, 256)    0           Batch415[0][0]                   \n",
            "__________________________________________________________________________________________________\n",
            "Conv415 (Conv2D)                (None, 4, 4, 16)     36864       Activation415[0][0]              \n",
            "__________________________________________________________________________________________________\n",
            "Dropout415 (Dropout)            (None, 4, 4, 16)     0           Conv415[0][0]                    \n",
            "__________________________________________________________________________________________________\n",
            "Concat415 (Concatenate)         (None, 4, 4, 272)    0           Concat414[0][0]                  \n",
            "                                                                 Dropout415[0][0]                 \n",
            "__________________________________________________________________________________________________\n",
            "Batch_output_layer (BatchNormal (None, 4, 4, 272)    1088        Concat415[0][0]                  \n",
            "__________________________________________________________________________________________________\n",
            "Activation_output_layer (Activa (None, 4, 4, 272)    0           Batch_output_layer[0][0]         \n",
            "__________________________________________________________________________________________________\n",
            "AvgPooling_output_layer (Averag (None, 2, 2, 272)    0           Activation_output_layer[0][0]    \n",
            "__________________________________________________________________________________________________\n",
            "Flattern_output_layer (Flatten) (None, 1088)         0           AvgPooling_output_layer[0][0]    \n",
            "__________________________________________________________________________________________________\n",
            "my_Dense_output_layer (Dense)   (None, 10)           10890       Flattern_output_layer[0][0]      \n",
            "==================================================================================================\n",
            "Total params: 1,355,574\n",
            "Trainable params: 1,335,440\n",
            "Non-trainable params: 20,134\n",
            "__________________________________________________________________________________________________\n"
          ],
          "name": "stdout"
        }
      ]
    },
    {
      "metadata": {
        "id": "pBU7K9lFdrSC",
        "colab_type": "text"
      },
      "cell_type": "markdown",
      "source": [
        "### Load Pre-Train Weights\n"
      ]
    },
    {
      "metadata": {
        "id": "4NjsrvUDCjnI",
        "colab_type": "code",
        "colab": {
          "autoexec": {
            "startup": false,
            "wait_interval": 0
          }
        }
      },
      "cell_type": "code",
      "source": [
        "my_model.load_weights('DNST_model.h5',by_name=True)  # Load weights for all layers except Dense layer "
      ],
      "execution_count": 0,
      "outputs": []
    },
    {
      "metadata": {
        "id": "-MPxzyqsC7JT",
        "colab_type": "code",
        "colab": {
          "autoexec": {
            "startup": false,
            "wait_interval": 0
          },
          "base_uri": "https://localhost:8080/",
          "height": 136
        },
        "outputId": "6efe52af-0d6f-4872-f719-b96f0c80b601",
        "executionInfo": {
          "status": "ok",
          "timestamp": 1526458549849,
          "user_tz": -330,
          "elapsed": 861,
          "user": {
            "displayName": "Maulik Patel",
            "photoUrl": "//lh5.googleusercontent.com/-_UK_oodWrVs/AAAAAAAAAAI/AAAAAAAAAJA/gD4rz1cAslw/s50-c-k-no/photo.jpg",
            "userId": "116093646563580572628"
          }
        }
      },
      "cell_type": "code",
      "source": [
        "my_model.layers[2].get_weights()[0][0][0][0]   #Weights same as Pre-trained model\n"
      ],
      "execution_count": 23,
      "outputs": [
        {
          "output_type": "execute_result",
          "data": {
            "text/plain": [
              "array([-0.08926045, -0.03382662,  0.1389838 ,  0.04840288,  0.15290497,\n",
              "        0.20032234, -0.01584686,  0.01852103, -0.07243107,  0.00584622,\n",
              "        0.08848107, -0.18683584, -0.14112152,  0.1708244 , -0.05623038,\n",
              "       -0.08167133, -0.1807296 , -0.05519202, -0.01146097,  0.12076344,\n",
              "        0.34433368, -0.0590573 , -0.07619301,  0.19274437, -0.02804155,\n",
              "        0.16227992, -0.07030777,  0.04280185, -0.17523837,  0.16714962,\n",
              "        0.12454204,  0.1990029 ], dtype=float32)"
            ]
          },
          "metadata": {
            "tags": []
          },
          "execution_count": 23
        }
      ]
    },
    {
      "metadata": {
        "id": "3JBwRm_43iMc",
        "colab_type": "code",
        "colab": {
          "autoexec": {
            "startup": false,
            "wait_interval": 0
          }
        }
      },
      "cell_type": "code",
      "source": [
        "# determine Loss function and Optimizer\n",
        "my_weight_checksaver = keras.callbacks.ModelCheckpoint('my_cifar10_weights.{epoch:02d}-{val_loss:.3f}.hdf5',\n",
        "                                                  monitor='val_loss', verbose=1, save_weights_only=True, period=3, mode = 'auto')\n",
        "\n",
        "my_model.compile(loss='categorical_crossentropy',\n",
        "              optimizer=Adam(),\n",
        "              metrics=['accuracy'])"
      ],
      "execution_count": 0,
      "outputs": []
    },
    {
      "metadata": {
        "id": "crhGk7kEhXAz",
        "colab_type": "code",
        "colab": {
          "autoexec": {
            "startup": false,
            "wait_interval": 0
          },
          "base_uri": "https://localhost:8080/",
          "height": 1193
        },
        "outputId": "ed562c1d-1445-412f-f961-70002a7c3bc7"
      },
      "cell_type": "code",
      "source": [
        "#Total 32 epochs \n",
        "\n",
        "epochs=32\n",
        "batch_size=64\n",
        "my_history1=my_model.fit_generator(imgen.flow(x_train,y_train,batch_size=batch_size),\n",
        "                      steps_per_epoch=len(x_train)/batch_size,\n",
        "                      epochs=epochs, \n",
        "                      verbose=1,\n",
        "                      callbacks=[my_weight_checksaver],\n",
        "                      validation_data=(x_test,y_test)\n",
        "                     )\n",
        "#For Epoch 22/32, val_acc: 0.8863[total 40 = 18+22 Epochs ]"
      ],
      "execution_count": 0,
      "outputs": [
        {
          "output_type": "stream",
          "text": [
            "Epoch 1/32\n",
            "782/781 [==============================] - 598s 765ms/step - loss: 0.6335 - acc: 0.7846 - val_loss: 0.7378 - val_acc: 0.7715\n",
            "Epoch 2/32\n",
            "122/781 [===>..........................] - ETA: 7:41 - loss: 0.5121 - acc: 0.8291"
          ],
          "name": "stdout"
        },
        {
          "output_type": "stream",
          "text": [
            "782/781 [==============================] - 581s 743ms/step - loss: 0.5034 - acc: 0.8287 - val_loss: 0.8411 - val_acc: 0.7647\n",
            "Epoch 3/32\n",
            "213/781 [=======>......................] - ETA: 6:38 - loss: 0.4638 - acc: 0.8416"
          ],
          "name": "stdout"
        },
        {
          "output_type": "stream",
          "text": [
            "782/781 [==============================] - 582s 744ms/step - loss: 0.4538 - acc: 0.8446 - val_loss: 0.9955 - val_acc: 0.7312\n",
            "\n",
            "Epoch 00003: saving model to my_cifar10_weights.03-0.995.hdf5\n",
            "Epoch 4/32\n",
            "191/781 [======>.......................] - ETA: 6:54 - loss: 0.4268 - acc: 0.8524"
          ],
          "name": "stdout"
        },
        {
          "output_type": "stream",
          "text": [
            "782/781 [==============================] - 583s 745ms/step - loss: 0.4280 - acc: 0.8520 - val_loss: 0.6161 - val_acc: 0.8156\n",
            "Epoch 5/32\n",
            "239/781 [========>.....................] - ETA: 6:21 - loss: 0.4093 - acc: 0.8620"
          ],
          "name": "stdout"
        },
        {
          "output_type": "stream",
          "text": [
            "782/781 [==============================] - 583s 746ms/step - loss: 0.4049 - acc: 0.8625 - val_loss: 0.5290 - val_acc: 0.8399\n",
            "Epoch 6/32\n",
            "257/781 [========>.....................] - ETA: 6:07 - loss: 0.3754 - acc: 0.8713"
          ],
          "name": "stdout"
        },
        {
          "output_type": "stream",
          "text": [
            "782/781 [==============================] - 581s 743ms/step - loss: 0.3845 - acc: 0.8683 - val_loss: 0.5568 - val_acc: 0.8324\n",
            "\n",
            "Epoch 00006: saving model to my_cifar10_weights.06-0.557.hdf5\n",
            "Epoch 7/32\n",
            "203/781 [======>.......................] - ETA: 6:44 - loss: 0.3544 - acc: 0.8792"
          ],
          "name": "stdout"
        },
        {
          "output_type": "stream",
          "text": [
            "782/781 [==============================] - 579s 741ms/step - loss: 0.3703 - acc: 0.8716 - val_loss: 0.7652 - val_acc: 0.7970\n",
            "Epoch 8/32\n",
            "243/781 [========>.....................] - ETA: 6:15 - loss: 0.3496 - acc: 0.8777"
          ],
          "name": "stdout"
        },
        {
          "output_type": "stream",
          "text": [
            "782/781 [==============================] - 579s 740ms/step - loss: 0.3495 - acc: 0.8793 - val_loss: 0.6107 - val_acc: 0.8382\n",
            "Epoch 9/32\n",
            "258/781 [========>.....................] - ETA: 6:05 - loss: 0.3369 - acc: 0.8812"
          ],
          "name": "stdout"
        },
        {
          "output_type": "stream",
          "text": [
            "782/781 [==============================] - 579s 741ms/step - loss: 0.3374 - acc: 0.8833 - val_loss: 0.5874 - val_acc: 0.8267\n",
            "\n",
            "Epoch 00009: saving model to my_cifar10_weights.09-0.587.hdf5\n",
            "Epoch 10/32\n",
            "203/781 [======>.......................] - ETA: 6:43 - loss: 0.3138 - acc: 0.8901"
          ],
          "name": "stdout"
        },
        {
          "output_type": "stream",
          "text": [
            "782/781 [==============================] - 580s 741ms/step - loss: 0.3275 - acc: 0.8875 - val_loss: 0.5795 - val_acc: 0.8354\n",
            "Epoch 11/32\n",
            "242/781 [========>.....................] - ETA: 6:17 - loss: 0.2980 - acc: 0.8974"
          ],
          "name": "stdout"
        },
        {
          "output_type": "stream",
          "text": [
            "782/781 [==============================] - 581s 743ms/step - loss: 0.3121 - acc: 0.8920 - val_loss: 0.7127 - val_acc: 0.8172\n",
            "Epoch 12/32\n",
            "257/781 [========>.....................] - ETA: 6:07 - loss: 0.2931 - acc: 0.9015"
          ],
          "name": "stdout"
        },
        {
          "output_type": "stream",
          "text": [
            "782/781 [==============================] - 581s 743ms/step - loss: 0.3055 - acc: 0.8945 - val_loss: 0.4926 - val_acc: 0.8586\n",
            "\n",
            "Epoch 00012: saving model to my_cifar10_weights.12-0.493.hdf5\n",
            "Epoch 13/32\n",
            "203/781 [======>.......................] - ETA: 6:45 - loss: 0.2790 - acc: 0.9021"
          ],
          "name": "stdout"
        },
        {
          "output_type": "stream",
          "text": [
            "782/781 [==============================] - 581s 743ms/step - loss: 0.2910 - acc: 0.8999 - val_loss: 0.5491 - val_acc: 0.8415\n",
            "Epoch 14/32\n",
            "242/781 [========>.....................] - ETA: 6:18 - loss: 0.2900 - acc: 0.8988"
          ],
          "name": "stdout"
        },
        {
          "output_type": "stream",
          "text": [
            "782/781 [==============================] - 581s 743ms/step - loss: 0.2890 - acc: 0.9004 - val_loss: 0.7199 - val_acc: 0.8240\n",
            "Epoch 15/32\n",
            "257/781 [========>.....................] - ETA: 6:07 - loss: 0.2741 - acc: 0.9030"
          ],
          "name": "stdout"
        },
        {
          "output_type": "stream",
          "text": [
            "782/781 [==============================] - 581s 743ms/step - loss: 0.2790 - acc: 0.9021 - val_loss: 0.5271 - val_acc: 0.8581\n",
            "\n",
            "Epoch 00015: saving model to my_cifar10_weights.15-0.527.hdf5\n",
            "Epoch 16/32\n",
            "203/781 [======>.......................] - ETA: 6:45 - loss: 0.2658 - acc: 0.9089"
          ],
          "name": "stdout"
        },
        {
          "output_type": "stream",
          "text": [
            "782/781 [==============================] - 582s 744ms/step - loss: 0.2668 - acc: 0.9087 - val_loss: 0.5291 - val_acc: 0.8603\n",
            "Epoch 17/32\n",
            "242/781 [========>.....................] - ETA: 6:17 - loss: 0.2624 - acc: 0.9108"
          ],
          "name": "stdout"
        },
        {
          "output_type": "stream",
          "text": [
            "782/781 [==============================] - 581s 743ms/step - loss: 0.2614 - acc: 0.9094 - val_loss: 0.5509 - val_acc: 0.8525\n",
            "Epoch 18/32\n",
            "257/781 [========>.....................] - ETA: 6:07 - loss: 0.2442 - acc: 0.9163"
          ],
          "name": "stdout"
        },
        {
          "output_type": "stream",
          "text": [
            "782/781 [==============================] - 581s 743ms/step - loss: 0.2535 - acc: 0.9118 - val_loss: 0.4936 - val_acc: 0.8681\n",
            "\n",
            "Epoch 00018: saving model to my_cifar10_weights.18-0.494.hdf5\n",
            "Epoch 19/32\n",
            "203/781 [======>.......................] - ETA: 6:45 - loss: 0.2396 - acc: 0.9166"
          ],
          "name": "stdout"
        },
        {
          "output_type": "stream",
          "text": [
            "782/781 [==============================] - 580s 742ms/step - loss: 0.2493 - acc: 0.9135 - val_loss: 0.5582 - val_acc: 0.8502\n",
            "Epoch 20/32\n",
            "242/781 [========>.....................] - ETA: 6:16 - loss: 0.2327 - acc: 0.9164"
          ],
          "name": "stdout"
        },
        {
          "output_type": "stream",
          "text": [
            "782/781 [==============================] - 581s 743ms/step - loss: 0.2370 - acc: 0.9170 - val_loss: 0.6224 - val_acc: 0.8380\n",
            "Epoch 21/32\n",
            "257/781 [========>.....................] - ETA: 6:07 - loss: 0.2279 - acc: 0.9173"
          ],
          "name": "stdout"
        },
        {
          "output_type": "stream",
          "text": [
            "782/781 [==============================] - 581s 743ms/step - loss: 0.2360 - acc: 0.9176 - val_loss: 0.5857 - val_acc: 0.8501\n",
            "\n",
            "Epoch 00021: saving model to my_cifar10_weights.21-0.586.hdf5\n",
            "Epoch 22/32\n",
            "203/781 [======>.......................] - ETA: 6:45 - loss: 0.2177 - acc: 0.9246"
          ],
          "name": "stdout"
        },
        {
          "output_type": "stream",
          "text": [
            "782/781 [==============================] - 581s 742ms/step - loss: 0.2317 - acc: 0.9189 - val_loss: 0.4239 - val_acc: 0.8863\n",
            "Epoch 23/32\n",
            "242/781 [========>.....................] - ETA: 6:17 - loss: 0.2090 - acc: 0.9258"
          ],
          "name": "stdout"
        },
        {
          "output_type": "stream",
          "text": [
            "782/781 [==============================] - 581s 743ms/step - loss: 0.2244 - acc: 0.9211 - val_loss: 0.4861 - val_acc: 0.8640\n",
            "Epoch 24/32\n",
            "257/781 [========>.....................] - ETA: 6:07 - loss: 0.2065 - acc: 0.9286"
          ],
          "name": "stdout"
        },
        {
          "output_type": "stream",
          "text": [
            "782/781 [==============================] - 581s 743ms/step - loss: 0.2184 - acc: 0.9244 - val_loss: 0.4769 - val_acc: 0.8669\n",
            "\n",
            "Epoch 00024: saving model to my_cifar10_weights.24-0.477.hdf5\n",
            "Epoch 25/32\n",
            "203/781 [======>.......................] - ETA: 6:45 - loss: 0.2052 - acc: 0.9280"
          ],
          "name": "stdout"
        },
        {
          "output_type": "stream",
          "text": [
            "782/781 [==============================] - 580s 742ms/step - loss: 0.2127 - acc: 0.9261 - val_loss: 0.4465 - val_acc: 0.8820\n",
            "Epoch 26/32\n",
            " 98/781 [==>...........................] - ETA: 7:57 - loss: 0.1947 - acc: 0.9306"
          ],
          "name": "stdout"
        }
      ]
    },
    {
      "metadata": {
        "id": "O4R7UTLS58S_",
        "colab_type": "code",
        "colab": {
          "autoexec": {
            "startup": false,
            "wait_interval": 0
          },
          "base_uri": "https://localhost:8080/",
          "height": 68
        },
        "outputId": "d1011138-ae6c-43d5-a199-57c873d59505",
        "executionInfo": {
          "status": "ok",
          "timestamp": 1526474088884,
          "user_tz": -330,
          "elapsed": 40459,
          "user": {
            "displayName": "Maulik Patel",
            "photoUrl": "//lh5.googleusercontent.com/-_UK_oodWrVs/AAAAAAAAAAI/AAAAAAAAAJA/gD4rz1cAslw/s50-c-k-no/photo.jpg",
            "userId": "116093646563580572628"
          }
        }
      },
      "cell_type": "code",
      "source": [
        "my_model.load_weights('my_cifar10_weights.24-0.477.hdf5')\n",
        "score = my_model.evaluate(x_test, y_test, verbose=1)\n",
        "print('Test loss:', score[0])\n",
        "print('Test accuracy:', score[1])"
      ],
      "execution_count": 31,
      "outputs": [
        {
          "output_type": "stream",
          "text": [
            "10000/10000 [==============================] - 39s 4ms/step\n",
            "Test loss: 0.4768641710996628\n",
            "Test accuracy: 0.8669\n"
          ],
          "name": "stdout"
        }
      ]
    },
    {
      "metadata": {
        "id": "bF5ZZbGPSvXj",
        "colab_type": "code",
        "colab": {
          "autoexec": {
            "startup": false,
            "wait_interval": 0
          },
          "base_uri": "https://localhost:8080/",
          "height": 411
        },
        "outputId": "2878aed1-7822-4ff6-d970-04a0514226d2",
        "executionInfo": {
          "status": "ok",
          "timestamp": 1526478763511,
          "user_tz": -330,
          "elapsed": 4674554,
          "user": {
            "displayName": "Maulik Patel",
            "photoUrl": "//lh5.googleusercontent.com/-_UK_oodWrVs/AAAAAAAAAAI/AAAAAAAAAJA/gD4rz1cAslw/s50-c-k-no/photo.jpg",
            "userId": "116093646563580572628"
          }
        }
      },
      "cell_type": "code",
      "source": [
        "# Continue from 25th epoch\n",
        "#Initial_epoch=24\n",
        "#Total Epoch= 32-24 = 8\n",
        "epochs=32\n",
        "batch_size=64\n",
        "my_history1=my_model.fit_generator(imgen.flow(x_train,y_train,batch_size=batch_size),\n",
        "                      steps_per_epoch=len(x_train)/batch_size,\n",
        "                      epochs=epochs, \n",
        "                      verbose=1,\n",
        "                      initial_epoch=24,\n",
        "                      shuffle=True,\n",
        "                      callbacks=[my_weight_checksaver],\n",
        "                      validation_data=(x_test,y_test)\n",
        "                     )\n",
        "\n",
        "#For Epoch 32/32, val_acc: 0.8883 [For 50= 18+32 epochs ]"
      ],
      "execution_count": 32,
      "outputs": [
        {
          "output_type": "stream",
          "text": [
            "Epoch 25/32\n",
            "782/781 [==============================] - 585s 749ms/step - loss: 0.2089 - acc: 0.9264 - val_loss: 0.4713 - val_acc: 0.8724\n",
            "Epoch 26/32\n",
            "118/781 [===>..........................] - ETA: 7:49 - loss: 0.2029 - acc: 0.9292"
          ],
          "name": "stdout"
        },
        {
          "output_type": "stream",
          "text": [
            "782/781 [==============================] - 585s 748ms/step - loss: 0.2135 - acc: 0.9259 - val_loss: 0.4743 - val_acc: 0.8731\n",
            "\n",
            "Epoch 00026: saving model to my_cifar10_weights.26-0.474.hdf5\n",
            "Epoch 27/32\n",
            "162/781 [=====>........................] - ETA: 7:17 - loss: 0.2009 - acc: 0.9280"
          ],
          "name": "stdout"
        },
        {
          "output_type": "stream",
          "text": [
            "782/781 [==============================] - 585s 748ms/step - loss: 0.2053 - acc: 0.9266 - val_loss: 0.5433 - val_acc: 0.8736\n",
            "Epoch 28/32\n",
            "227/781 [=======>......................] - ETA: 6:31 - loss: 0.1928 - acc: 0.9336"
          ],
          "name": "stdout"
        },
        {
          "output_type": "stream",
          "text": [
            "782/781 [==============================] - 585s 748ms/step - loss: 0.2068 - acc: 0.9279 - val_loss: 0.4213 - val_acc: 0.8823\n",
            "Epoch 29/32\n",
            "251/781 [========>.....................] - ETA: 6:12 - loss: 0.1789 - acc: 0.9371"
          ],
          "name": "stdout"
        },
        {
          "output_type": "stream",
          "text": [
            "782/781 [==============================] - 583s 745ms/step - loss: 0.1939 - acc: 0.9321 - val_loss: 0.4675 - val_acc: 0.8837\n",
            "\n",
            "Epoch 00029: saving model to my_cifar10_weights.29-0.468.hdf5\n",
            "Epoch 30/32\n",
            "201/781 [======>.......................] - ETA: 6:48 - loss: 0.1835 - acc: 0.9363"
          ],
          "name": "stdout"
        },
        {
          "output_type": "stream",
          "text": [
            "782/781 [==============================] - 583s 745ms/step - loss: 0.1913 - acc: 0.9324 - val_loss: 0.7133 - val_acc: 0.8361\n",
            "Epoch 31/32\n",
            "242/781 [========>.....................] - ETA: 6:19 - loss: 0.1830 - acc: 0.9366"
          ],
          "name": "stdout"
        },
        {
          "output_type": "stream",
          "text": [
            "782/781 [==============================] - 583s 745ms/step - loss: 0.1904 - acc: 0.9336 - val_loss: 0.4778 - val_acc: 0.8751\n",
            "Epoch 32/32\n",
            "257/781 [========>.....................] - ETA: 6:08 - loss: 0.1796 - acc: 0.9359"
          ],
          "name": "stdout"
        },
        {
          "output_type": "stream",
          "text": [
            "782/781 [==============================] - 583s 746ms/step - loss: 0.1824 - acc: 0.9364 - val_loss: 0.4271 - val_acc: 0.8883\n",
            "\n",
            "Epoch 00032: saving model to my_cifar10_weights.32-0.427.hdf5\n"
          ],
          "name": "stdout"
        }
      ]
    },
    {
      "metadata": {
        "id": "ZcWydmIVhZGr",
        "colab_type": "code",
        "colab": {
          "autoexec": {
            "startup": false,
            "wait_interval": 0
          },
          "base_uri": "https://localhost:8080/",
          "height": 68
        },
        "outputId": "bdf6ec17-27b3-428b-ff6f-a6fcd3f44745",
        "executionInfo": {
          "status": "ok",
          "timestamp": 1526478849103,
          "user_tz": -330,
          "elapsed": 40325,
          "user": {
            "displayName": "Maulik Patel",
            "photoUrl": "//lh5.googleusercontent.com/-_UK_oodWrVs/AAAAAAAAAAI/AAAAAAAAAJA/gD4rz1cAslw/s50-c-k-no/photo.jpg",
            "userId": "116093646563580572628"
          }
        }
      },
      "cell_type": "code",
      "source": [
        "#Test the model\n",
        "score = my_model.evaluate(x_test, y_test, verbose=1)\n",
        "print('Test loss:', score[0])\n",
        "print('Test accuracy:', score[1])"
      ],
      "execution_count": 33,
      "outputs": [
        {
          "output_type": "stream",
          "text": [
            "10000/10000 [==============================] - 39s 4ms/step\n",
            "Test loss: 0.42713764951527117\n",
            "Test accuracy: 0.8883\n"
          ],
          "name": "stdout"
        }
      ]
    },
    {
      "metadata": {
        "id": "WAkstz4CRQc8",
        "colab_type": "code",
        "colab": {
          "autoexec": {
            "startup": false,
            "wait_interval": 0
          },
          "base_uri": "https://localhost:8080/",
          "height": 34
        },
        "outputId": "69a7ab60-0502-49d4-b142-74341814518f",
        "executionInfo": {
          "status": "ok",
          "timestamp": 1526434022721,
          "user_tz": -330,
          "elapsed": 38374,
          "user": {
            "displayName": "maulik tf",
            "photoUrl": "https://lh3.googleusercontent.com/a/default-user=s128",
            "userId": "111825460013673095344"
          }
        }
      },
      "cell_type": "code",
      "source": [
        "# Save the trained weights in to .h5 format\n",
        "my_model.save_weights(\"DNST_my_model.h5\")\n",
        "print(\"Saved model to disk\")\n",
        "\n",
        "from google.colab import files\n",
        "files.download('DNST_my_model.h5')\n",
        "               \n",
        "my_model.save('my_model.h5')\n",
        "files.download('my_model.h5')\n",
        "\n",
        "the_weights = my_model.get_weights()\n",
        "np.save(\"my_weights_array\", the_weights)\n",
        "files.download('my_weights_array.npy')"
      ],
      "execution_count": 0,
      "outputs": [
        {
          "output_type": "stream",
          "text": [
            "Saved model to disk\n"
          ],
          "name": "stdout"
        }
      ]
    }
  ]
}